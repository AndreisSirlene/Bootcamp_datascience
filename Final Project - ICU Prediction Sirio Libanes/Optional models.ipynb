{
 "cells": [
  {
   "cell_type": "markdown",
   "metadata": {},
   "source": [
    "## Optional models to the main Project:  ICU Predictions Sirio Libanes\n",
    "\n",
    "Here I am implementing in these three datasets, as experimental machine learning models to see how it behaves.\n",
    "It was a alternative option to try to predict ICU admission to specific groups as suggested in the Initial proposal of Sirio Libanes team. \n",
    "\n",
    "### Problem Question:\n",
    "Based on the available data could a Machine Learning model predict whether the patient will need intensive care unit (ICU)?\n",
    "\n",
    "•\tUsing Vital signs + Demographics features?\n",
    "\n",
    "•\tUsing Laboratory exams + Demographics?\n",
    "\n",
    "•\tUsing Comorbidities + Demographics?\n",
    "\n",
    "The Three datasets used here were created after had defined window and ICU admission, but its not eliminating the high correlations."
   ]
  },
  {
   "cell_type": "code",
   "execution_count": 1,
   "metadata": {},
   "outputs": [],
   "source": [
    "import pandas as pd\n",
    "import numpy as np \n",
    "\n",
    "\n",
    "import plotly.express as px\n",
    "import plotly.graph_objects as go\n",
    "import seaborn as sns\n",
    "import matplotlib.pyplot as plt\n",
    "%matplotlib inline\n",
    "plt.style.use('fivethirtyeight')\n",
    "\n",
    "from sklearn.model_selection import train_test_split, cross_validate\n",
    "from sklearn.model_selection import GridSearchCV, RepeatedStratifiedKFold\n",
    "from sklearn.model_selection import StratifiedKFold\n",
    "from sklearn.dummy import DummyClassifier\n",
    "from sklearn.linear_model import LogisticRegression\n",
    "from sklearn.naive_bayes import GaussianNB\n",
    "from sklearn.ensemble import RandomForestClassifier\n",
    "from sklearn.ensemble import GradientBoostingClassifier\n",
    "from sklearn import svm\n",
    "from sklearn.svm import SVC\n",
    "from sklearn.svm import LinearSVC\n",
    "from sklearn import model_selection\n",
    "\n",
    "from sklearn.metrics import classification_report\n",
    "from sklearn.metrics import confusion_matrix, plot_confusion_matrix\n",
    "from sklearn.preprocessing import LabelEncoder\n",
    "from sklearn.model_selection import cross_val_score\n",
    "from sklearn.metrics import accuracy_score,precision_score,recall_score,f1_score \n",
    "from sklearn.metrics import r2_score,roc_auc_score,roc_curve, auc, recall_score,make_scorer\n",
    "from sklearn.metrics import plot_roc_curve\n",
    "from sklearn.model_selection import learning_curve\n",
    "from sklearn.metrics import mean_squared_error\n",
    "from sklearn import metrics\n",
    "\n",
    "# XAI\n",
    "import shap\n",
    "import eli5\n",
    "from eli5.sklearn import PermutationImportance\n",
    "from pdpbox import pdp, get_dataset, info_plots\n",
    "\n",
    "#Extras\n",
    "import warnings\n",
    "warnings.filterwarnings('ignore')"
   ]
  },
  {
   "cell_type": "code",
   "execution_count": 2,
   "metadata": {},
   "outputs": [],
   "source": [
    "def run_test_models(data):\n",
    "  \n",
    "    X_columns = data.columns\n",
    "    y = data['ICU']\n",
    "    X = data[X_columns].drop(['ICU'], axis=1)\n",
    "    X_train, X_test, y_train, y_test = train_test_split(X, y, test_size= 0.2, stratify=y, random_state= 67235)\n",
    "\n",
    "    results = []\n",
    "    np.random.seed(67235)\n",
    "    for model in [DummyClassifier,LogisticRegression,GaussianNB,\n",
    "                SVC,RandomForestClassifier,GradientBoostingClassifier]:\n",
    "\n",
    "\n",
    "\n",
    "                model_used = model()\n",
    "\n",
    "                kfold = StratifiedKFold(n_splits=5,shuffle=True)\n",
    "                val_score = model_selection.cross_val_score(model_used,X,y,scoring='roc_auc',\n",
    "                                                            cv = kfold)\n",
    "                \n",
    "                results.append(f'{model.__name__:22} AUC:\\\n",
    "                {val_score.mean():.3f} STD: {val_score.std():.2f}')    \n",
    "\n",
    "    return results\n",
    "\n",
    "\n",
    "def plot_cm(y_test, y_pred, figsize=(8,8)):\n",
    "    cm = confusion_matrix(y_test, y_pred, labels=np.unique(y_test))\n",
    "    cm_sum = np.sum(cm, axis=1, keepdims=True)\n",
    "    cm_perc = cm / cm_sum.astype(float) * 100\n",
    "    annot = np.empty_like(cm).astype(str)\n",
    "    nrows, ncols = cm.shape\n",
    "    for i in range(nrows):\n",
    "        for j in range(ncols):\n",
    "            c = cm[i, j]\n",
    "            p = cm_perc[i, j]\n",
    "            if i == j:\n",
    "                s = cm_sum[i]\n",
    "                annot[i, j] = '%.1f%%\\n%d/%d' % (p, c, s)\n",
    "            elif c == 0:\n",
    "                annot[i, j] = ''\n",
    "            else:\n",
    "                annot[i, j] = '%.1f%%\\n%d' % (p, c)\n",
    "    cm = pd.DataFrame(cm, index=np.unique(y_test), columns=np.unique(y_test))\n",
    "    cm.index.name = 'Actual'\n",
    "    cm.columns.name = 'Predicted'\n",
    "    fig, ax = plt.subplots(figsize=figsize)\n",
    "    sns.heatmap(cm, cmap= \"YlGnBu\", annot=annot, fmt='', ax=ax)\n",
    "    \n"
   ]
  },
  {
   "cell_type": "code",
   "execution_count": 3,
   "metadata": {},
   "outputs": [],
   "source": [
    "def grid_search_cv(parameters, model, X_train, y_train):\n",
    "\n",
    "    findGrid = GridSearchCV(model, param_grid=parameters, cv=10, scoring='roc_auc')\n",
    "  \n",
    "      # Train the model\n",
    "    findGrid.fit(X_train, y_train)\n",
    "\n",
    "    #Find the best parameters\n",
    "    best_params = findGrid.best_params_\n",
    "\n",
    "    return best_params\n",
    "\n",
    "\n",
    "def graphic_boost(title:str, x_label: str, y_label: str):\n",
    "    '''\n",
    "    Define graphic descriptions\n",
    "\n",
    "    title: Graphic title\n",
    "    x_label: description of axes X\n",
    "    y_label: description axes y\n",
    "  '''\n",
    "    plt.title(title, loc='left', fontsize=24)\n",
    "    plt.xlabel(x_label, fontsize=18)\n",
    "    plt.ylabel(y_label, fontsize=18);"
   ]
  },
  {
   "cell_type": "markdown",
   "metadata": {},
   "source": [
    "# 1. Model  build in with Vital Signs and  Demographic features"
   ]
  },
  {
   "cell_type": "code",
   "execution_count": 4,
   "metadata": {},
   "outputs": [
    {
     "data": {
      "text/html": [
       "<div>\n",
       "<style scoped>\n",
       "    .dataframe tbody tr th:only-of-type {\n",
       "        vertical-align: middle;\n",
       "    }\n",
       "\n",
       "    .dataframe tbody tr th {\n",
       "        vertical-align: top;\n",
       "    }\n",
       "\n",
       "    .dataframe thead th {\n",
       "        text-align: right;\n",
       "    }\n",
       "</style>\n",
       "<table border=\"1\" class=\"dataframe\">\n",
       "  <thead>\n",
       "    <tr style=\"text-align: right;\">\n",
       "      <th></th>\n",
       "      <th>BLOODPRESSURE_DIASTOLIC_MEAN</th>\n",
       "      <th>BLOODPRESSURE_SISTOLIC_MEAN</th>\n",
       "      <th>HEART_RATE_MEAN</th>\n",
       "      <th>RESPIRATORY_RATE_MEAN</th>\n",
       "      <th>TEMPERATURE_MEAN</th>\n",
       "      <th>OXYGEN_SATURATION_MEAN</th>\n",
       "      <th>BLOODPRESSURE_DIASTOLIC_MEDIAN</th>\n",
       "      <th>BLOODPRESSURE_SISTOLIC_MEDIAN</th>\n",
       "      <th>HEART_RATE_MEDIAN</th>\n",
       "      <th>RESPIRATORY_RATE_MEDIAN</th>\n",
       "      <th>...</th>\n",
       "      <th>AGE_PERCENTIL_40th</th>\n",
       "      <th>AGE_PERCENTIL_50th</th>\n",
       "      <th>AGE_PERCENTIL_60th</th>\n",
       "      <th>AGE_PERCENTIL_70th</th>\n",
       "      <th>AGE_PERCENTIL_80th</th>\n",
       "      <th>AGE_PERCENTIL_90th</th>\n",
       "      <th>AGE_PERCENTIL_Above 90th</th>\n",
       "      <th>AGE_ABOVE65</th>\n",
       "      <th>GENDER</th>\n",
       "      <th>ICU</th>\n",
       "    </tr>\n",
       "  </thead>\n",
       "  <tbody>\n",
       "    <tr>\n",
       "      <th>0</th>\n",
       "      <td>0.086420</td>\n",
       "      <td>-0.230769</td>\n",
       "      <td>-0.283019</td>\n",
       "      <td>-0.593220</td>\n",
       "      <td>-0.285714</td>\n",
       "      <td>0.736842</td>\n",
       "      <td>0.086420</td>\n",
       "      <td>-0.230769</td>\n",
       "      <td>-0.283019</td>\n",
       "      <td>-0.586207</td>\n",
       "      <td>...</td>\n",
       "      <td>0</td>\n",
       "      <td>0</td>\n",
       "      <td>1</td>\n",
       "      <td>0</td>\n",
       "      <td>0</td>\n",
       "      <td>0</td>\n",
       "      <td>0</td>\n",
       "      <td>1</td>\n",
       "      <td>0</td>\n",
       "      <td>1</td>\n",
       "    </tr>\n",
       "    <tr>\n",
       "      <th>2</th>\n",
       "      <td>-0.489712</td>\n",
       "      <td>-0.685470</td>\n",
       "      <td>-0.048218</td>\n",
       "      <td>-0.645951</td>\n",
       "      <td>0.357143</td>\n",
       "      <td>0.935673</td>\n",
       "      <td>-0.506173</td>\n",
       "      <td>-0.815385</td>\n",
       "      <td>-0.056604</td>\n",
       "      <td>-0.517241</td>\n",
       "      <td>...</td>\n",
       "      <td>0</td>\n",
       "      <td>0</td>\n",
       "      <td>0</td>\n",
       "      <td>0</td>\n",
       "      <td>0</td>\n",
       "      <td>0</td>\n",
       "      <td>0</td>\n",
       "      <td>0</td>\n",
       "      <td>0</td>\n",
       "      <td>1</td>\n",
       "    </tr>\n",
       "    <tr>\n",
       "      <th>3</th>\n",
       "      <td>0.012346</td>\n",
       "      <td>-0.369231</td>\n",
       "      <td>-0.528302</td>\n",
       "      <td>-0.457627</td>\n",
       "      <td>-0.285714</td>\n",
       "      <td>0.684211</td>\n",
       "      <td>0.012346</td>\n",
       "      <td>-0.369231</td>\n",
       "      <td>-0.528302</td>\n",
       "      <td>-0.448276</td>\n",
       "      <td>...</td>\n",
       "      <td>1</td>\n",
       "      <td>0</td>\n",
       "      <td>0</td>\n",
       "      <td>0</td>\n",
       "      <td>0</td>\n",
       "      <td>0</td>\n",
       "      <td>0</td>\n",
       "      <td>0</td>\n",
       "      <td>1</td>\n",
       "      <td>0</td>\n",
       "    </tr>\n",
       "    <tr>\n",
       "      <th>4</th>\n",
       "      <td>0.333333</td>\n",
       "      <td>-0.153846</td>\n",
       "      <td>0.160377</td>\n",
       "      <td>-0.593220</td>\n",
       "      <td>0.285714</td>\n",
       "      <td>0.868421</td>\n",
       "      <td>0.333333</td>\n",
       "      <td>-0.153846</td>\n",
       "      <td>0.160377</td>\n",
       "      <td>-0.586207</td>\n",
       "      <td>...</td>\n",
       "      <td>0</td>\n",
       "      <td>0</td>\n",
       "      <td>0</td>\n",
       "      <td>0</td>\n",
       "      <td>0</td>\n",
       "      <td>0</td>\n",
       "      <td>0</td>\n",
       "      <td>0</td>\n",
       "      <td>0</td>\n",
       "      <td>0</td>\n",
       "    </tr>\n",
       "    <tr>\n",
       "      <th>5</th>\n",
       "      <td>-0.037037</td>\n",
       "      <td>-0.538462</td>\n",
       "      <td>-0.537736</td>\n",
       "      <td>-0.525424</td>\n",
       "      <td>-0.196429</td>\n",
       "      <td>0.815789</td>\n",
       "      <td>-0.037037</td>\n",
       "      <td>-0.538462</td>\n",
       "      <td>-0.537736</td>\n",
       "      <td>-0.517241</td>\n",
       "      <td>...</td>\n",
       "      <td>0</td>\n",
       "      <td>0</td>\n",
       "      <td>0</td>\n",
       "      <td>0</td>\n",
       "      <td>0</td>\n",
       "      <td>0</td>\n",
       "      <td>0</td>\n",
       "      <td>0</td>\n",
       "      <td>0</td>\n",
       "      <td>0</td>\n",
       "    </tr>\n",
       "  </tbody>\n",
       "</table>\n",
       "<p>5 rows × 49 columns</p>\n",
       "</div>"
      ],
      "text/plain": [
       "   BLOODPRESSURE_DIASTOLIC_MEAN  BLOODPRESSURE_SISTOLIC_MEAN  HEART_RATE_MEAN  \\\n",
       "0                      0.086420                    -0.230769        -0.283019   \n",
       "2                     -0.489712                    -0.685470        -0.048218   \n",
       "3                      0.012346                    -0.369231        -0.528302   \n",
       "4                      0.333333                    -0.153846         0.160377   \n",
       "5                     -0.037037                    -0.538462        -0.537736   \n",
       "\n",
       "   RESPIRATORY_RATE_MEAN  TEMPERATURE_MEAN  OXYGEN_SATURATION_MEAN  \\\n",
       "0              -0.593220         -0.285714                0.736842   \n",
       "2              -0.645951          0.357143                0.935673   \n",
       "3              -0.457627         -0.285714                0.684211   \n",
       "4              -0.593220          0.285714                0.868421   \n",
       "5              -0.525424         -0.196429                0.815789   \n",
       "\n",
       "   BLOODPRESSURE_DIASTOLIC_MEDIAN  BLOODPRESSURE_SISTOLIC_MEDIAN  \\\n",
       "0                        0.086420                      -0.230769   \n",
       "2                       -0.506173                      -0.815385   \n",
       "3                        0.012346                      -0.369231   \n",
       "4                        0.333333                      -0.153846   \n",
       "5                       -0.037037                      -0.538462   \n",
       "\n",
       "   HEART_RATE_MEDIAN  RESPIRATORY_RATE_MEDIAN  ...  AGE_PERCENTIL_40th  \\\n",
       "0          -0.283019                -0.586207  ...                   0   \n",
       "2          -0.056604                -0.517241  ...                   0   \n",
       "3          -0.528302                -0.448276  ...                   1   \n",
       "4           0.160377                -0.586207  ...                   0   \n",
       "5          -0.537736                -0.517241  ...                   0   \n",
       "\n",
       "   AGE_PERCENTIL_50th  AGE_PERCENTIL_60th  AGE_PERCENTIL_70th  \\\n",
       "0                   0                   1                   0   \n",
       "2                   0                   0                   0   \n",
       "3                   0                   0                   0   \n",
       "4                   0                   0                   0   \n",
       "5                   0                   0                   0   \n",
       "\n",
       "   AGE_PERCENTIL_80th  AGE_PERCENTIL_90th  AGE_PERCENTIL_Above 90th  \\\n",
       "0                   0                   0                         0   \n",
       "2                   0                   0                         0   \n",
       "3                   0                   0                         0   \n",
       "4                   0                   0                         0   \n",
       "5                   0                   0                         0   \n",
       "\n",
       "   AGE_ABOVE65  GENDER  ICU  \n",
       "0            1       0    1  \n",
       "2            0       0    1  \n",
       "3            0       1    0  \n",
       "4            0       0    0  \n",
       "5            0       0    0  \n",
       "\n",
       "[5 rows x 49 columns]"
      ]
     },
     "execution_count": 4,
     "metadata": {},
     "output_type": "execute_result"
    }
   ],
   "source": [
    "vital_signs = pd.read_csv('vital_signsAndDemographic.csv', index_col=0)\n",
    "vital_signs.head()"
   ]
  },
  {
   "cell_type": "code",
   "execution_count": 5,
   "metadata": {},
   "outputs": [],
   "source": [
    "#Work with vital_signs dataframe\n",
    "X_columns = vital_signs.columns\n",
    "y = vital_signs['ICU']\n",
    "X = vital_signs[X_columns].drop(['ICU'], axis=1)\n",
    "\n",
    "#Split train and test (80:20)\n",
    "X_train, X_test, y_train, y_test = train_test_split(X, y, test_size = 0.20, stratify=y,random_state= 67235)"
   ]
  },
  {
   "cell_type": "code",
   "execution_count": 6,
   "metadata": {},
   "outputs": [
    {
     "data": {
      "text/plain": [
       "['DummyClassifier        AUC:                0.509 STD: 0.03',\n",
       " 'LogisticRegression     AUC:                0.712 STD: 0.05',\n",
       " 'GaussianNB             AUC:                0.691 STD: 0.06',\n",
       " 'SVC                    AUC:                0.718 STD: 0.05',\n",
       " 'RandomForestClassifier AUC:                0.681 STD: 0.08',\n",
       " 'GradientBoostingClassifier AUC:                0.653 STD: 0.06']"
      ]
     },
     "execution_count": 6,
     "metadata": {},
     "output_type": "execute_result"
    }
   ],
   "source": [
    "run_test_models(vital_signs)"
   ]
  },
  {
   "cell_type": "markdown",
   "metadata": {},
   "source": [
    "## SVC Model"
   ]
  },
  {
   "cell_type": "code",
   "execution_count": 7,
   "metadata": {},
   "outputs": [
    {
     "data": {
      "text/plain": [
       "GridSearchCV(cv=10, estimator=SVC(),\n",
       "             param_grid={'C': [0.01, 1, 5], 'coef0': [1.0, 10.0],\n",
       "                         'degree': [1, 2, 5],\n",
       "                         'gamma': [0.1, 0.001, 0.01, 0.1, 1],\n",
       "                         'kernel': ['poly', 'linear', 'rbf']},\n",
       "             scoring='accuracy')"
      ]
     },
     "execution_count": 7,
     "metadata": {},
     "output_type": "execute_result"
    }
   ],
   "source": [
    "parameters = {\n",
    "            'C': [0.01, 1, 5],\n",
    "            'coef0': [1.0, 10.0],\n",
    "            'degree': [1,2,5],\n",
    "            'gamma': [000.1, 0.001, 0.01, 0.1, 1],\n",
    "            'kernel': ['poly','linear','rbf']\n",
    "            }\n",
    "\n",
    "grid_search_cv = GridSearchCV(SVC(), parameters, scoring = 'accuracy', cv=10)\n",
    "grid_search_cv.fit(X_train, y_train)"
   ]
  },
  {
   "cell_type": "code",
   "execution_count": 8,
   "metadata": {},
   "outputs": [
    {
     "data": {
      "text/plain": [
       "SVC(C=1, coef0=10.0, degree=2, gamma=0.001, kernel='poly')"
      ]
     },
     "execution_count": 8,
     "metadata": {},
     "output_type": "execute_result"
    }
   ],
   "source": [
    "grid_search_cv.best_estimator_"
   ]
  },
  {
   "cell_type": "code",
   "execution_count": 9,
   "metadata": {},
   "outputs": [
    {
     "data": {
      "text/plain": [
       "0.6607142857142858"
      ]
     },
     "execution_count": 9,
     "metadata": {},
     "output_type": "execute_result"
    }
   ],
   "source": [
    "grid_search_cv.best_score_"
   ]
  },
  {
   "cell_type": "code",
   "execution_count": 10,
   "metadata": {},
   "outputs": [
    {
     "data": {
      "text/plain": [
       "0.8071428571428572"
      ]
     },
     "execution_count": 10,
     "metadata": {},
     "output_type": "execute_result"
    }
   ],
   "source": [
    "svm = SVC(C=10, coef0=10.0, degree=10, gamma=0.1, kernel='rbf', random_state=62375)\n",
    "svm.fit(X_train,y_train)\n",
    "train_score = svm.score(X_train, y_train)\n",
    "train_score"
   ]
  },
  {
   "cell_type": "code",
   "execution_count": 11,
   "metadata": {},
   "outputs": [
    {
     "name": "stdout",
     "output_type": "stream",
     "text": [
      "              precision    recall  f1-score   support\n",
      "\n",
      "           0       0.72      0.74      0.73        38\n",
      "           1       0.68      0.66      0.67        32\n",
      "\n",
      "    accuracy                           0.70        70\n",
      "   macro avg       0.70      0.70      0.70        70\n",
      "weighted avg       0.70      0.70      0.70        70\n",
      "\n"
     ]
    }
   ],
   "source": [
    "y_pred = svm.predict(X_test)\n",
    "print(classification_report(y_test, y_pred.round()))"
   ]
  },
  {
   "cell_type": "markdown",
   "metadata": {},
   "source": [
    "### Confusion Matrix"
   ]
  },
  {
   "cell_type": "code",
   "execution_count": 12,
   "metadata": {},
   "outputs": [
    {
     "data": {
      "image/png": "[encoded data removed]",
      "text/plain": [
       "<Figure size 576x432 with 2 Axes>"
      ]
     },
     "metadata": {},
     "output_type": "display_data"
    }
   ],
   "source": [
    "plot_cm(y_test, y_pred, figsize=(8,6))"
   ]
  },
  {
   "cell_type": "code",
   "execution_count": 13,
   "metadata": {},
   "outputs": [
    {
     "data": {
      "text/html": [
       "\n",
       "    <style>\n",
       "    table.eli5-weights tr:hover {\n",
       "        filter: brightness(85%);\n",
       "    }\n",
       "</style>\n",
       "\n",
       "\n",
       "\n",
       "    \n",
       "\n",
       "    \n",
       "\n",
       "    \n",
       "\n",
       "    \n",
       "\n",
       "    \n",
       "\n",
       "    \n",
       "\n",
       "\n",
       "    \n",
       "\n",
       "    \n",
       "\n",
       "    \n",
       "\n",
       "    \n",
       "\n",
       "    \n",
       "\n",
       "    \n",
       "\n",
       "\n",
       "    \n",
       "\n",
       "    \n",
       "\n",
       "    \n",
       "\n",
       "    \n",
       "\n",
       "    \n",
       "        <table class=\"eli5-weights eli5-feature-importances\" style=\"border-collapse: collapse; border: none; margin-top: 0em; table-layout: auto;\">\n",
       "    <thead>\n",
       "    <tr style=\"border: none;\">\n",
       "        <th style=\"padding: 0 1em 0 0.5em; text-align: right; border: none;\">Weight</th>\n",
       "        <th style=\"padding: 0 0.5em 0 0.5em; text-align: left; border: none;\">Feature</th>\n",
       "    </tr>\n",
       "    </thead>\n",
       "    <tbody>\n",
       "    \n",
       "        <tr style=\"background-color: hsl(120, 100.00%, 80.00%); border: none;\">\n",
       "            <td style=\"padding: 0 1em 0 0.5em; text-align: right; border: none;\">\n",
       "                0.1062\n",
       "                \n",
       "                    &plusmn; 0.0935\n",
       "                \n",
       "            </td>\n",
       "            <td style=\"padding: 0 0.5em 0 0.5em; text-align: left; border: none;\">\n",
       "                AGE_ABOVE65\n",
       "            </td>\n",
       "        </tr>\n",
       "    \n",
       "        <tr style=\"background-color: hsl(120, 100.00%, 83.42%); border: none;\">\n",
       "            <td style=\"padding: 0 1em 0 0.5em; text-align: right; border: none;\">\n",
       "                0.0813\n",
       "                \n",
       "                    &plusmn; 0.0306\n",
       "                \n",
       "            </td>\n",
       "            <td style=\"padding: 0 0.5em 0 0.5em; text-align: left; border: none;\">\n",
       "                AGE_PERCENTIL_Above 90th\n",
       "            </td>\n",
       "        </tr>\n",
       "    \n",
       "        <tr style=\"background-color: hsl(120, 100.00%, 88.20%); border: none;\">\n",
       "            <td style=\"padding: 0 1em 0 0.5em; text-align: right; border: none;\">\n",
       "                0.0500\n",
       "                \n",
       "                    &plusmn; 0.0306\n",
       "                \n",
       "            </td>\n",
       "            <td style=\"padding: 0 0.5em 0 0.5em; text-align: left; border: none;\">\n",
       "                AGE_PERCENTIL_50th\n",
       "            </td>\n",
       "        </tr>\n",
       "    \n",
       "        <tr style=\"background-color: hsl(120, 100.00%, 89.25%); border: none;\">\n",
       "            <td style=\"padding: 0 1em 0 0.5em; text-align: right; border: none;\">\n",
       "                0.0437\n",
       "                \n",
       "                    &plusmn; 0.0306\n",
       "                \n",
       "            </td>\n",
       "            <td style=\"padding: 0 0.5em 0 0.5em; text-align: left; border: none;\">\n",
       "                AGE_PERCENTIL_90th\n",
       "            </td>\n",
       "        </tr>\n",
       "    \n",
       "        <tr style=\"background-color: hsl(120, 100.00%, 92.74%); border: none;\">\n",
       "            <td style=\"padding: 0 1em 0 0.5em; text-align: right; border: none;\">\n",
       "                0.0250\n",
       "                \n",
       "                    &plusmn; 0.0468\n",
       "                \n",
       "            </td>\n",
       "            <td style=\"padding: 0 0.5em 0 0.5em; text-align: left; border: none;\">\n",
       "                AGE_PERCENTIL_40th\n",
       "            </td>\n",
       "        </tr>\n",
       "    \n",
       "        <tr style=\"background-color: hsl(120, 100.00%, 92.74%); border: none;\">\n",
       "            <td style=\"padding: 0 1em 0 0.5em; text-align: right; border: none;\">\n",
       "                0.0250\n",
       "                \n",
       "                    &plusmn; 0.0250\n",
       "                \n",
       "            </td>\n",
       "            <td style=\"padding: 0 0.5em 0 0.5em; text-align: left; border: none;\">\n",
       "                AGE_PERCENTIL_30th\n",
       "            </td>\n",
       "        </tr>\n",
       "    \n",
       "        <tr style=\"background-color: hsl(120, 100.00%, 94.06%); border: none;\">\n",
       "            <td style=\"padding: 0 1em 0 0.5em; text-align: right; border: none;\">\n",
       "                0.0187\n",
       "                \n",
       "                    &plusmn; 0.0306\n",
       "                \n",
       "            </td>\n",
       "            <td style=\"padding: 0 0.5em 0 0.5em; text-align: left; border: none;\">\n",
       "                AGE_PERCENTIL_10th\n",
       "            </td>\n",
       "        </tr>\n",
       "    \n",
       "        <tr style=\"background-color: hsl(120, 100.00%, 94.06%); border: none;\">\n",
       "            <td style=\"padding: 0 1em 0 0.5em; text-align: right; border: none;\">\n",
       "                0.0187\n",
       "                \n",
       "                    &plusmn; 0.0500\n",
       "                \n",
       "            </td>\n",
       "            <td style=\"padding: 0 0.5em 0 0.5em; text-align: left; border: none;\">\n",
       "                AGE_PERCENTIL_20th\n",
       "            </td>\n",
       "        </tr>\n",
       "    \n",
       "        <tr style=\"background-color: hsl(120, 100.00%, 97.25%); border: none;\">\n",
       "            <td style=\"padding: 0 1em 0 0.5em; text-align: right; border: none;\">\n",
       "                0.0063\n",
       "                \n",
       "                    &plusmn; 0.0468\n",
       "                \n",
       "            </td>\n",
       "            <td style=\"padding: 0 0.5em 0 0.5em; text-align: left; border: none;\">\n",
       "                BLOODPRESSURE_DIASTOLIC_MIN\n",
       "            </td>\n",
       "        </tr>\n",
       "    \n",
       "        <tr style=\"background-color: hsl(120, 100.00%, 97.25%); border: none;\">\n",
       "            <td style=\"padding: 0 1em 0 0.5em; text-align: right; border: none;\">\n",
       "                0.0063\n",
       "                \n",
       "                    &plusmn; 0.0468\n",
       "                \n",
       "            </td>\n",
       "            <td style=\"padding: 0 0.5em 0 0.5em; text-align: left; border: none;\">\n",
       "                TEMPERATURE_MIN\n",
       "            </td>\n",
       "        </tr>\n",
       "    \n",
       "    \n",
       "        \n",
       "            <tr style=\"background-color: hsl(120, 100.00%, 97.25%); border: none;\">\n",
       "                <td colspan=\"2\" style=\"padding: 0 0.5em 0 0.5em; text-align: center; border: none; white-space: nowrap;\">\n",
       "                    <i>&hellip; 38 more &hellip;</i>\n",
       "                </td>\n",
       "            </tr>\n",
       "        \n",
       "    \n",
       "    </tbody>\n",
       "</table>\n",
       "    \n",
       "\n",
       "    \n",
       "\n",
       "\n",
       "    \n",
       "\n",
       "    \n",
       "\n",
       "    \n",
       "\n",
       "    \n",
       "\n",
       "    \n",
       "\n",
       "    \n",
       "\n",
       "\n",
       "\n"
      ],
      "text/plain": [
       "<IPython.core.display.HTML object>"
      ]
     },
     "execution_count": 13,
     "metadata": {},
     "output_type": "execute_result"
    }
   ],
   "source": [
    "perm = PermutationImportance(svm, scoring = 'recall', random_state=67235).fit(X_test, y_test)\n",
    "eli5.show_weights(perm, feature_names = X_test.columns.tolist(), top=10)"
   ]
  },
  {
   "cell_type": "markdown",
   "metadata": {},
   "source": [
    "# 2. Model build in with Lab exams and Demographic features"
   ]
  },
  {
   "cell_type": "code",
   "execution_count": 14,
   "metadata": {},
   "outputs": [
    {
     "data": {
      "text/html": [
       "<div>\n",
       "<style scoped>\n",
       "    .dataframe tbody tr th:only-of-type {\n",
       "        vertical-align: middle;\n",
       "    }\n",
       "\n",
       "    .dataframe tbody tr th {\n",
       "        vertical-align: top;\n",
       "    }\n",
       "\n",
       "    .dataframe thead th {\n",
       "        text-align: right;\n",
       "    }\n",
       "</style>\n",
       "<table border=\"1\" class=\"dataframe\">\n",
       "  <thead>\n",
       "    <tr style=\"text-align: right;\">\n",
       "      <th></th>\n",
       "      <th>ALBUMIN_MEDIAN</th>\n",
       "      <th>ALBUMIN_MEAN</th>\n",
       "      <th>ALBUMIN_MIN</th>\n",
       "      <th>ALBUMIN_MAX</th>\n",
       "      <th>BE_ARTERIAL_MEDIAN</th>\n",
       "      <th>BE_ARTERIAL_MEAN</th>\n",
       "      <th>BE_ARTERIAL_MIN</th>\n",
       "      <th>BE_ARTERIAL_MAX</th>\n",
       "      <th>BE_VENOUS_MEDIAN</th>\n",
       "      <th>BE_VENOUS_MEAN</th>\n",
       "      <th>...</th>\n",
       "      <th>AGE_PERCENTIL_40th</th>\n",
       "      <th>AGE_PERCENTIL_50th</th>\n",
       "      <th>AGE_PERCENTIL_60th</th>\n",
       "      <th>AGE_PERCENTIL_70th</th>\n",
       "      <th>AGE_PERCENTIL_80th</th>\n",
       "      <th>AGE_PERCENTIL_90th</th>\n",
       "      <th>AGE_PERCENTIL_Above 90th</th>\n",
       "      <th>AGE_ABOVE65</th>\n",
       "      <th>GENDER</th>\n",
       "      <th>ICU</th>\n",
       "    </tr>\n",
       "  </thead>\n",
       "  <tbody>\n",
       "    <tr>\n",
       "      <th>0</th>\n",
       "      <td>0.605263</td>\n",
       "      <td>0.605263</td>\n",
       "      <td>0.605263</td>\n",
       "      <td>0.605263</td>\n",
       "      <td>-1.0</td>\n",
       "      <td>-1.0</td>\n",
       "      <td>-1.0</td>\n",
       "      <td>-1.0</td>\n",
       "      <td>-1.0</td>\n",
       "      <td>-1.0</td>\n",
       "      <td>...</td>\n",
       "      <td>0</td>\n",
       "      <td>0</td>\n",
       "      <td>1</td>\n",
       "      <td>0</td>\n",
       "      <td>0</td>\n",
       "      <td>0</td>\n",
       "      <td>0</td>\n",
       "      <td>1</td>\n",
       "      <td>0</td>\n",
       "      <td>1</td>\n",
       "    </tr>\n",
       "    <tr>\n",
       "      <th>2</th>\n",
       "      <td>0.605263</td>\n",
       "      <td>0.605263</td>\n",
       "      <td>0.605263</td>\n",
       "      <td>0.605263</td>\n",
       "      <td>-1.0</td>\n",
       "      <td>-1.0</td>\n",
       "      <td>-1.0</td>\n",
       "      <td>-1.0</td>\n",
       "      <td>-1.0</td>\n",
       "      <td>-1.0</td>\n",
       "      <td>...</td>\n",
       "      <td>0</td>\n",
       "      <td>0</td>\n",
       "      <td>0</td>\n",
       "      <td>0</td>\n",
       "      <td>0</td>\n",
       "      <td>0</td>\n",
       "      <td>0</td>\n",
       "      <td>0</td>\n",
       "      <td>0</td>\n",
       "      <td>1</td>\n",
       "    </tr>\n",
       "    <tr>\n",
       "      <th>3</th>\n",
       "      <td>-0.263158</td>\n",
       "      <td>-0.263158</td>\n",
       "      <td>-0.263158</td>\n",
       "      <td>-0.263158</td>\n",
       "      <td>-1.0</td>\n",
       "      <td>-1.0</td>\n",
       "      <td>-1.0</td>\n",
       "      <td>-1.0</td>\n",
       "      <td>-1.0</td>\n",
       "      <td>-1.0</td>\n",
       "      <td>...</td>\n",
       "      <td>1</td>\n",
       "      <td>0</td>\n",
       "      <td>0</td>\n",
       "      <td>0</td>\n",
       "      <td>0</td>\n",
       "      <td>0</td>\n",
       "      <td>0</td>\n",
       "      <td>0</td>\n",
       "      <td>1</td>\n",
       "      <td>0</td>\n",
       "    </tr>\n",
       "  </tbody>\n",
       "</table>\n",
       "<p>3 rows × 157 columns</p>\n",
       "</div>"
      ],
      "text/plain": [
       "   ALBUMIN_MEDIAN  ALBUMIN_MEAN  ALBUMIN_MIN  ALBUMIN_MAX  BE_ARTERIAL_MEDIAN  \\\n",
       "0        0.605263      0.605263     0.605263     0.605263                -1.0   \n",
       "2        0.605263      0.605263     0.605263     0.605263                -1.0   \n",
       "3       -0.263158     -0.263158    -0.263158    -0.263158                -1.0   \n",
       "\n",
       "   BE_ARTERIAL_MEAN  BE_ARTERIAL_MIN  BE_ARTERIAL_MAX  BE_VENOUS_MEDIAN  \\\n",
       "0              -1.0             -1.0             -1.0              -1.0   \n",
       "2              -1.0             -1.0             -1.0              -1.0   \n",
       "3              -1.0             -1.0             -1.0              -1.0   \n",
       "\n",
       "   BE_VENOUS_MEAN  ...  AGE_PERCENTIL_40th  AGE_PERCENTIL_50th  \\\n",
       "0            -1.0  ...                   0                   0   \n",
       "2            -1.0  ...                   0                   0   \n",
       "3            -1.0  ...                   1                   0   \n",
       "\n",
       "   AGE_PERCENTIL_60th  AGE_PERCENTIL_70th  AGE_PERCENTIL_80th  \\\n",
       "0                   1                   0                   0   \n",
       "2                   0                   0                   0   \n",
       "3                   0                   0                   0   \n",
       "\n",
       "   AGE_PERCENTIL_90th  AGE_PERCENTIL_Above 90th  AGE_ABOVE65  GENDER  ICU  \n",
       "0                   0                         0            1       0    1  \n",
       "2                   0                         0            0       0    1  \n",
       "3                   0                         0            0       1    0  \n",
       "\n",
       "[3 rows x 157 columns]"
      ]
     },
     "execution_count": 14,
     "metadata": {},
     "output_type": "execute_result"
    }
   ],
   "source": [
    "lab_exams = pd.read_csv('lab_examsDemographic.csv', index_col=0)\n",
    "lab_exams.head(3)"
   ]
  },
  {
   "cell_type": "code",
   "execution_count": 15,
   "metadata": {},
   "outputs": [],
   "source": [
    "#Work with lab_exams dataframe\n",
    "X_columns = lab_exams.columns\n",
    "y = lab_exams['ICU']\n",
    "X = lab_exams[X_columns].drop(['ICU'], axis=1)\n",
    "\n",
    "#Split train and test (80:20)\n",
    "X_train, X_test, y_train, y_test = train_test_split(X, y, test_size = 0.20,stratify=y, random_state= 67235)"
   ]
  },
  {
   "cell_type": "code",
   "execution_count": 16,
   "metadata": {},
   "outputs": [
    {
     "data": {
      "text/plain": [
       "['DummyClassifier        AUC:                0.509 STD: 0.03',\n",
       " 'LogisticRegression     AUC:                0.753 STD: 0.04',\n",
       " 'GaussianNB             AUC:                0.715 STD: 0.05',\n",
       " 'SVC                    AUC:                0.773 STD: 0.06',\n",
       " 'RandomForestClassifier AUC:                0.749 STD: 0.04',\n",
       " 'GradientBoostingClassifier AUC:                0.745 STD: 0.07']"
      ]
     },
     "execution_count": 16,
     "metadata": {},
     "output_type": "execute_result"
    }
   ],
   "source": [
    "run_test_models(lab_exams)"
   ]
  },
  {
   "cell_type": "markdown",
   "metadata": {},
   "source": [
    "### SVC Model"
   ]
  },
  {
   "cell_type": "code",
   "execution_count": null,
   "metadata": {},
   "outputs": [],
   "source": [
    "parameters_lab = {\n",
    "            'C': [0.01, 1, 5],\n",
    "            'coef0': [1.0, 10.0],\n",
    "            'degree': [1,2,5],\n",
    "            'gamma': [000.1, 0.001, 0.01, 0.1, 1],\n",
    "            'kernel': ['poly','linear','rbf']\n",
    "            }\n",
    "\n",
    "grid_search_cv = GridSearchCV(SVC(), parameters_lab, scoring = 'accuracy', cv=10)\n",
    "grid_search_cv.fit(X_train, y_train)"
   ]
  },
  {
   "cell_type": "code",
   "execution_count": 17,
   "metadata": {},
   "outputs": [],
   "source": [
    "grid_search_cv.best_estimator_"
   ]
  },
  {
   "cell_type": "code",
   "execution_count": 18,
   "metadata": {},
   "outputs": [],
   "source": [
    "grid_search_cv.best_score_"
   ]
  },
  {
   "cell_type": "code",
   "execution_count": 19,
   "metadata": {},
   "outputs": [
    {
     "data": {
      "text/plain": [
       "0.7321428571428571"
      ]
     },
     "execution_count": 19,
     "metadata": {},
     "output_type": "execute_result"
    }
   ],
   "source": [
    "svm_lab = SVC(C=1, coef0=1.0, degree=1, gamma=0.1, kernel='poly', random_state=62375)\n",
    "svm_lab.fit(X_train,y_train)\n",
    "train_score = svm_lab.score(X_train, y_train)\n",
    "train_score"
   ]
  },
  {
   "cell_type": "code",
   "execution_count": 20,
   "metadata": {},
   "outputs": [
    {
     "name": "stdout",
     "output_type": "stream",
     "text": [
      "              precision    recall  f1-score   support\n",
      "\n",
      "           0       0.79      0.79      0.79        38\n",
      "           1       0.75      0.75      0.75        32\n",
      "\n",
      "    accuracy                           0.77        70\n",
      "   macro avg       0.77      0.77      0.77        70\n",
      "weighted avg       0.77      0.77      0.77        70\n",
      "\n"
     ]
    }
   ],
   "source": [
    "y_pred = svm_lab.predict(X_test)\n",
    "print(classification_report(y_test, y_pred.round()))"
   ]
  },
  {
   "cell_type": "code",
   "execution_count": 21,
   "metadata": {},
   "outputs": [
    {
     "data": {
      "image/png": "[encoded data removed]",
      "text/plain": [
       "<Figure size 576x432 with 2 Axes>"
      ]
     },
     "metadata": {},
     "output_type": "display_data"
    }
   ],
   "source": [
    "plot_cm(y_test, y_pred, figsize=(8,6))"
   ]
  },
  {
   "cell_type": "markdown",
   "metadata": {},
   "source": [
    "# 3. Model build in with Disease group and demographic features\n",
    "\n",
    "Patients with COVID-19 disease who have comorbidities, such as hypertension or diabetes mellitus, are more likely to develop a more severe course and progression of the disease. Furthermore, older patients, especially those 65 years old and above who have comorbidities and are infected, have an increased admission rate into the intensive care unit (ICU)."
   ]
  },
  {
   "cell_type": "code",
   "execution_count": 22,
   "metadata": {},
   "outputs": [
    {
     "data": {
      "text/html": [
       "<div>\n",
       "<style scoped>\n",
       "    .dataframe tbody tr th:only-of-type {\n",
       "        vertical-align: middle;\n",
       "    }\n",
       "\n",
       "    .dataframe tbody tr th {\n",
       "        vertical-align: top;\n",
       "    }\n",
       "\n",
       "    .dataframe thead th {\n",
       "        text-align: right;\n",
       "    }\n",
       "</style>\n",
       "<table border=\"1\" class=\"dataframe\">\n",
       "  <thead>\n",
       "    <tr style=\"text-align: right;\">\n",
       "      <th></th>\n",
       "      <th>DISEASE GROUPING 1</th>\n",
       "      <th>DISEASE GROUPING 2</th>\n",
       "      <th>DISEASE GROUPING 3</th>\n",
       "      <th>DISEASE GROUPING 4</th>\n",
       "      <th>DISEASE GROUPING 5</th>\n",
       "      <th>DISEASE GROUPING 6</th>\n",
       "      <th>HTN</th>\n",
       "      <th>IMMUNOCOMPROMISED</th>\n",
       "      <th>OTHER</th>\n",
       "      <th>AGE_PERCENTIL_10th</th>\n",
       "      <th>...</th>\n",
       "      <th>AGE_PERCENTIL_40th</th>\n",
       "      <th>AGE_PERCENTIL_50th</th>\n",
       "      <th>AGE_PERCENTIL_60th</th>\n",
       "      <th>AGE_PERCENTIL_70th</th>\n",
       "      <th>AGE_PERCENTIL_80th</th>\n",
       "      <th>AGE_PERCENTIL_90th</th>\n",
       "      <th>AGE_PERCENTIL_Above 90th</th>\n",
       "      <th>AGE_ABOVE65</th>\n",
       "      <th>GENDER</th>\n",
       "      <th>ICU</th>\n",
       "    </tr>\n",
       "  </thead>\n",
       "  <tbody>\n",
       "    <tr>\n",
       "      <th>0</th>\n",
       "      <td>0.0</td>\n",
       "      <td>0.0</td>\n",
       "      <td>0.0</td>\n",
       "      <td>0.0</td>\n",
       "      <td>1.0</td>\n",
       "      <td>1.0</td>\n",
       "      <td>0.0</td>\n",
       "      <td>0.0</td>\n",
       "      <td>1.0</td>\n",
       "      <td>0</td>\n",
       "      <td>...</td>\n",
       "      <td>0</td>\n",
       "      <td>0</td>\n",
       "      <td>1</td>\n",
       "      <td>0</td>\n",
       "      <td>0</td>\n",
       "      <td>0</td>\n",
       "      <td>0</td>\n",
       "      <td>1</td>\n",
       "      <td>0</td>\n",
       "      <td>1</td>\n",
       "    </tr>\n",
       "    <tr>\n",
       "      <th>2</th>\n",
       "      <td>0.0</td>\n",
       "      <td>0.0</td>\n",
       "      <td>0.0</td>\n",
       "      <td>0.0</td>\n",
       "      <td>0.0</td>\n",
       "      <td>0.0</td>\n",
       "      <td>0.0</td>\n",
       "      <td>0.0</td>\n",
       "      <td>1.0</td>\n",
       "      <td>1</td>\n",
       "      <td>...</td>\n",
       "      <td>0</td>\n",
       "      <td>0</td>\n",
       "      <td>0</td>\n",
       "      <td>0</td>\n",
       "      <td>0</td>\n",
       "      <td>0</td>\n",
       "      <td>0</td>\n",
       "      <td>0</td>\n",
       "      <td>0</td>\n",
       "      <td>1</td>\n",
       "    </tr>\n",
       "    <tr>\n",
       "      <th>3</th>\n",
       "      <td>0.0</td>\n",
       "      <td>0.0</td>\n",
       "      <td>0.0</td>\n",
       "      <td>0.0</td>\n",
       "      <td>0.0</td>\n",
       "      <td>0.0</td>\n",
       "      <td>0.0</td>\n",
       "      <td>1.0</td>\n",
       "      <td>1.0</td>\n",
       "      <td>0</td>\n",
       "      <td>...</td>\n",
       "      <td>1</td>\n",
       "      <td>0</td>\n",
       "      <td>0</td>\n",
       "      <td>0</td>\n",
       "      <td>0</td>\n",
       "      <td>0</td>\n",
       "      <td>0</td>\n",
       "      <td>0</td>\n",
       "      <td>1</td>\n",
       "      <td>0</td>\n",
       "    </tr>\n",
       "    <tr>\n",
       "      <th>4</th>\n",
       "      <td>0.0</td>\n",
       "      <td>0.0</td>\n",
       "      <td>0.0</td>\n",
       "      <td>0.0</td>\n",
       "      <td>0.0</td>\n",
       "      <td>0.0</td>\n",
       "      <td>0.0</td>\n",
       "      <td>0.0</td>\n",
       "      <td>1.0</td>\n",
       "      <td>1</td>\n",
       "      <td>...</td>\n",
       "      <td>0</td>\n",
       "      <td>0</td>\n",
       "      <td>0</td>\n",
       "      <td>0</td>\n",
       "      <td>0</td>\n",
       "      <td>0</td>\n",
       "      <td>0</td>\n",
       "      <td>0</td>\n",
       "      <td>0</td>\n",
       "      <td>0</td>\n",
       "    </tr>\n",
       "    <tr>\n",
       "      <th>5</th>\n",
       "      <td>0.0</td>\n",
       "      <td>0.0</td>\n",
       "      <td>0.0</td>\n",
       "      <td>0.0</td>\n",
       "      <td>0.0</td>\n",
       "      <td>0.0</td>\n",
       "      <td>0.0</td>\n",
       "      <td>0.0</td>\n",
       "      <td>1.0</td>\n",
       "      <td>1</td>\n",
       "      <td>...</td>\n",
       "      <td>0</td>\n",
       "      <td>0</td>\n",
       "      <td>0</td>\n",
       "      <td>0</td>\n",
       "      <td>0</td>\n",
       "      <td>0</td>\n",
       "      <td>0</td>\n",
       "      <td>0</td>\n",
       "      <td>0</td>\n",
       "      <td>0</td>\n",
       "    </tr>\n",
       "  </tbody>\n",
       "</table>\n",
       "<p>5 rows × 22 columns</p>\n",
       "</div>"
      ],
      "text/plain": [
       "   DISEASE GROUPING 1  DISEASE GROUPING 2  DISEASE GROUPING 3  \\\n",
       "0                 0.0                 0.0                 0.0   \n",
       "2                 0.0                 0.0                 0.0   \n",
       "3                 0.0                 0.0                 0.0   \n",
       "4                 0.0                 0.0                 0.0   \n",
       "5                 0.0                 0.0                 0.0   \n",
       "\n",
       "   DISEASE GROUPING 4  DISEASE GROUPING 5  DISEASE GROUPING 6  HTN  \\\n",
       "0                 0.0                 1.0                 1.0  0.0   \n",
       "2                 0.0                 0.0                 0.0  0.0   \n",
       "3                 0.0                 0.0                 0.0  0.0   \n",
       "4                 0.0                 0.0                 0.0  0.0   \n",
       "5                 0.0                 0.0                 0.0  0.0   \n",
       "\n",
       "   IMMUNOCOMPROMISED  OTHER  AGE_PERCENTIL_10th  ...  AGE_PERCENTIL_40th  \\\n",
       "0                0.0    1.0                   0  ...                   0   \n",
       "2                0.0    1.0                   1  ...                   0   \n",
       "3                1.0    1.0                   0  ...                   1   \n",
       "4                0.0    1.0                   1  ...                   0   \n",
       "5                0.0    1.0                   1  ...                   0   \n",
       "\n",
       "   AGE_PERCENTIL_50th  AGE_PERCENTIL_60th  AGE_PERCENTIL_70th  \\\n",
       "0                   0                   1                   0   \n",
       "2                   0                   0                   0   \n",
       "3                   0                   0                   0   \n",
       "4                   0                   0                   0   \n",
       "5                   0                   0                   0   \n",
       "\n",
       "   AGE_PERCENTIL_80th  AGE_PERCENTIL_90th  AGE_PERCENTIL_Above 90th  \\\n",
       "0                   0                   0                         0   \n",
       "2                   0                   0                         0   \n",
       "3                   0                   0                         0   \n",
       "4                   0                   0                         0   \n",
       "5                   0                   0                         0   \n",
       "\n",
       "   AGE_ABOVE65  GENDER  ICU  \n",
       "0            1       0    1  \n",
       "2            0       0    1  \n",
       "3            0       1    0  \n",
       "4            0       0    0  \n",
       "5            0       0    0  \n",
       "\n",
       "[5 rows x 22 columns]"
      ]
     },
     "execution_count": 22,
     "metadata": {},
     "output_type": "execute_result"
    }
   ],
   "source": [
    "disease_group = pd.read_csv('diseasesDemographic.csv', index_col=0)\n",
    "disease_group.head()"
   ]
  },
  {
   "cell_type": "code",
   "execution_count": 23,
   "metadata": {},
   "outputs": [],
   "source": [
    "#Work with disease_group dataframe\n",
    "X_columns = disease_group.columns\n",
    "y = disease_group['ICU']\n",
    "X = disease_group[X_columns].drop(['ICU'], axis=1)\n",
    "\n",
    "#Split train and test (80:20)\n",
    "X_train, X_test, y_train, y_test = train_test_split(X, y, test_size = 0.20,stratify=y, random_state= 67235)"
   ]
  },
  {
   "cell_type": "code",
   "execution_count": 24,
   "metadata": {},
   "outputs": [
    {
     "data": {
      "text/plain": [
       "['DummyClassifier        AUC:                0.509 STD: 0.03',\n",
       " 'LogisticRegression     AUC:                0.671 STD: 0.03',\n",
       " 'GaussianNB             AUC:                0.681 STD: 0.06',\n",
       " 'SVC                    AUC:                0.677 STD: 0.03',\n",
       " 'RandomForestClassifier AUC:                0.657 STD: 0.02',\n",
       " 'GradientBoostingClassifier AUC:                0.691 STD: 0.06']"
      ]
     },
     "execution_count": 24,
     "metadata": {},
     "output_type": "execute_result"
    }
   ],
   "source": [
    "run_test_models(disease_group)"
   ]
  },
  {
   "cell_type": "markdown",
   "metadata": {},
   "source": [
    "### SVC MODEL"
   ]
  },
  {
   "cell_type": "code",
   "execution_count": 25,
   "metadata": {},
   "outputs": [
    {
     "data": {
      "text/plain": [
       "GridSearchCV(cv=10, estimator=SVC(),\n",
       "             param_grid={'C': [0.01, 1, 5], 'coef0': [1.0, 10.0],\n",
       "                         'degree': [1, 2, 5],\n",
       "                         'gamma': [0.1, 0.001, 0.01, 0.1, 1],\n",
       "                         'kernel': ['poly', 'linear', 'rbf']},\n",
       "             scoring='accuracy')"
      ]
     },
     "execution_count": 25,
     "metadata": {},
     "output_type": "execute_result"
    }
   ],
   "source": [
    "parameters = {\n",
    "            'C': [0.01, 1, 5],\n",
    "            'coef0': [1.0, 10.0],\n",
    "            'degree': [1,2,5],\n",
    "            'gamma': [000.1, 0.001, 0.01, 0.1, 1],\n",
    "            'kernel': ['poly','linear','rbf']\n",
    "            }\n",
    "\n",
    "grid_search_cv = GridSearchCV(SVC(), parameters, scoring = 'accuracy', cv=10)\n",
    "grid_search_cv.fit(X_train, y_train)"
   ]
  },
  {
   "cell_type": "code",
   "execution_count": 26,
   "metadata": {},
   "outputs": [
    {
     "data": {
      "text/plain": [
       "SVC(C=1, coef0=1.0, degree=1, gamma=0.1, kernel='poly')"
      ]
     },
     "execution_count": 26,
     "metadata": {},
     "output_type": "execute_result"
    }
   ],
   "source": [
    "grid_search_cv.best_estimator_"
   ]
  },
  {
   "cell_type": "code",
   "execution_count": 27,
   "metadata": {},
   "outputs": [
    {
     "data": {
      "text/plain": [
       "0.6321428571428572"
      ]
     },
     "execution_count": 27,
     "metadata": {},
     "output_type": "execute_result"
    }
   ],
   "source": [
    "grid_search_cv.best_score_"
   ]
  },
  {
   "cell_type": "code",
   "execution_count": 28,
   "metadata": {},
   "outputs": [
    {
     "data": {
      "text/plain": [
       "0.6464285714285715"
      ]
     },
     "execution_count": 28,
     "metadata": {},
     "output_type": "execute_result"
    }
   ],
   "source": [
    "svm = SVC(C=10, coef0=10, degree=4, gamma=0.01, kernel='rbf', random_state=62375)\n",
    "svm.fit(X_train,y_train)\n",
    "train_score = svm.score(X_train, y_train)\n",
    "train_score"
   ]
  },
  {
   "cell_type": "code",
   "execution_count": 29,
   "metadata": {},
   "outputs": [
    {
     "name": "stdout",
     "output_type": "stream",
     "text": [
      "              precision    recall  f1-score   support\n",
      "\n",
      "           0       0.73      0.63      0.68        38\n",
      "           1       0.62      0.72      0.67        32\n",
      "\n",
      "    accuracy                           0.67        70\n",
      "   macro avg       0.67      0.68      0.67        70\n",
      "weighted avg       0.68      0.67      0.67        70\n",
      "\n"
     ]
    }
   ],
   "source": [
    "y_pred = svm.predict(X_test)\n",
    "print(classification_report(y_test, y_pred.round()))"
   ]
  },
  {
   "cell_type": "code",
   "execution_count": 30,
   "metadata": {},
   "outputs": [
    {
     "data": {
      "image/png": "[encoded data removed]",
      "text/plain": [
       "<Figure size 576x432 with 2 Axes>"
      ]
     },
     "metadata": {},
     "output_type": "display_data"
    }
   ],
   "source": [
    "plot_cm(y_test, y_pred, figsize=(8,6))"
   ]
  },
  {
   "cell_type": "code",
   "execution_count": 31,
   "metadata": {},
   "outputs": [
    {
     "data": {
      "text/html": [
       "\n",
       "    <style>\n",
       "    table.eli5-weights tr:hover {\n",
       "        filter: brightness(85%);\n",
       "    }\n",
       "</style>\n",
       "\n",
       "\n",
       "\n",
       "    \n",
       "\n",
       "    \n",
       "\n",
       "    \n",
       "\n",
       "    \n",
       "\n",
       "    \n",
       "\n",
       "    \n",
       "\n",
       "\n",
       "    \n",
       "\n",
       "    \n",
       "\n",
       "    \n",
       "\n",
       "    \n",
       "\n",
       "    \n",
       "\n",
       "    \n",
       "\n",
       "\n",
       "    \n",
       "\n",
       "    \n",
       "\n",
       "    \n",
       "\n",
       "    \n",
       "\n",
       "    \n",
       "        <table class=\"eli5-weights eli5-feature-importances\" style=\"border-collapse: collapse; border: none; margin-top: 0em; table-layout: auto;\">\n",
       "    <thead>\n",
       "    <tr style=\"border: none;\">\n",
       "        <th style=\"padding: 0 1em 0 0.5em; text-align: right; border: none;\">Weight</th>\n",
       "        <th style=\"padding: 0 0.5em 0 0.5em; text-align: left; border: none;\">Feature</th>\n",
       "    </tr>\n",
       "    </thead>\n",
       "    <tbody>\n",
       "    \n",
       "        <tr style=\"background-color: hsl(120, 100.00%, 80.00%); border: none;\">\n",
       "            <td style=\"padding: 0 1em 0 0.5em; text-align: right; border: none;\">\n",
       "                0.1125\n",
       "                \n",
       "                    &plusmn; 0.1225\n",
       "                \n",
       "            </td>\n",
       "            <td style=\"padding: 0 0.5em 0 0.5em; text-align: left; border: none;\">\n",
       "                AGE_ABOVE65\n",
       "            </td>\n",
       "        </tr>\n",
       "    \n",
       "        <tr style=\"background-color: hsl(120, 100.00%, 91.84%); border: none;\">\n",
       "            <td style=\"padding: 0 1em 0 0.5em; text-align: right; border: none;\">\n",
       "                0.0312\n",
       "                \n",
       "                    &plusmn; 0.0000\n",
       "                \n",
       "            </td>\n",
       "            <td style=\"padding: 0 0.5em 0 0.5em; text-align: left; border: none;\">\n",
       "                DISEASE GROUPING 3\n",
       "            </td>\n",
       "        </tr>\n",
       "    \n",
       "        <tr style=\"background-color: hsl(120, 100.00%, 95.70%); border: none;\">\n",
       "            <td style=\"padding: 0 1em 0 0.5em; text-align: right; border: none;\">\n",
       "                0.0125\n",
       "                \n",
       "                    &plusmn; 0.0306\n",
       "                \n",
       "            </td>\n",
       "            <td style=\"padding: 0 0.5em 0 0.5em; text-align: left; border: none;\">\n",
       "                AGE_PERCENTIL_10th\n",
       "            </td>\n",
       "        </tr>\n",
       "    \n",
       "        <tr style=\"background-color: hsl(120, 100.00%, 95.70%); border: none;\">\n",
       "            <td style=\"padding: 0 1em 0 0.5em; text-align: right; border: none;\">\n",
       "                0.0125\n",
       "                \n",
       "                    &plusmn; 0.0306\n",
       "                \n",
       "            </td>\n",
       "            <td style=\"padding: 0 0.5em 0 0.5em; text-align: left; border: none;\">\n",
       "                DISEASE GROUPING 1\n",
       "            </td>\n",
       "        </tr>\n",
       "    \n",
       "        <tr style=\"background-color: hsl(120, 100.00%, 97.36%); border: none;\">\n",
       "            <td style=\"padding: 0 1em 0 0.5em; text-align: right; border: none;\">\n",
       "                0.0063\n",
       "                \n",
       "                    &plusmn; 0.0250\n",
       "                \n",
       "            </td>\n",
       "            <td style=\"padding: 0 0.5em 0 0.5em; text-align: left; border: none;\">\n",
       "                AGE_PERCENTIL_20th\n",
       "            </td>\n",
       "        </tr>\n",
       "    \n",
       "        <tr style=\"background-color: hsl(120, 100.00%, 97.36%); border: none;\">\n",
       "            <td style=\"padding: 0 1em 0 0.5em; text-align: right; border: none;\">\n",
       "                0.0063\n",
       "                \n",
       "                    &plusmn; 0.0250\n",
       "                \n",
       "            </td>\n",
       "            <td style=\"padding: 0 0.5em 0 0.5em; text-align: left; border: none;\">\n",
       "                GENDER\n",
       "            </td>\n",
       "        </tr>\n",
       "    \n",
       "        <tr style=\"background-color: hsl(120, 100.00%, 97.36%); border: none;\">\n",
       "            <td style=\"padding: 0 1em 0 0.5em; text-align: right; border: none;\">\n",
       "                0.0063\n",
       "                \n",
       "                    &plusmn; 0.0250\n",
       "                \n",
       "            </td>\n",
       "            <td style=\"padding: 0 0.5em 0 0.5em; text-align: left; border: none;\">\n",
       "                AGE_PERCENTIL_50th\n",
       "            </td>\n",
       "        </tr>\n",
       "    \n",
       "        <tr style=\"background-color: hsl(120, 100.00%, 97.36%); border: none;\">\n",
       "            <td style=\"padding: 0 1em 0 0.5em; text-align: right; border: none;\">\n",
       "                0.0063\n",
       "                \n",
       "                    &plusmn; 0.0250\n",
       "                \n",
       "            </td>\n",
       "            <td style=\"padding: 0 0.5em 0 0.5em; text-align: left; border: none;\">\n",
       "                AGE_PERCENTIL_40th\n",
       "            </td>\n",
       "        </tr>\n",
       "    \n",
       "        <tr style=\"background-color: hsl(0, 100.00%, 100.00%); border: none;\">\n",
       "            <td style=\"padding: 0 1em 0 0.5em; text-align: right; border: none;\">\n",
       "                0\n",
       "                \n",
       "                    &plusmn; 0.0000\n",
       "                \n",
       "            </td>\n",
       "            <td style=\"padding: 0 0.5em 0 0.5em; text-align: left; border: none;\">\n",
       "                DISEASE GROUPING 4\n",
       "            </td>\n",
       "        </tr>\n",
       "    \n",
       "        <tr style=\"background-color: hsl(0, 100.00%, 100.00%); border: none;\">\n",
       "            <td style=\"padding: 0 1em 0 0.5em; text-align: right; border: none;\">\n",
       "                0\n",
       "                \n",
       "                    &plusmn; 0.0000\n",
       "                \n",
       "            </td>\n",
       "            <td style=\"padding: 0 0.5em 0 0.5em; text-align: left; border: none;\">\n",
       "                DISEASE GROUPING 6\n",
       "            </td>\n",
       "        </tr>\n",
       "    \n",
       "    \n",
       "        \n",
       "            <tr style=\"background-color: hsl(0, 100.00%, 100.00%); border: none;\">\n",
       "                <td colspan=\"2\" style=\"padding: 0 0.5em 0 0.5em; text-align: center; border: none; white-space: nowrap;\">\n",
       "                    <i>&hellip; 11 more &hellip;</i>\n",
       "                </td>\n",
       "            </tr>\n",
       "        \n",
       "    \n",
       "    </tbody>\n",
       "</table>\n",
       "    \n",
       "\n",
       "    \n",
       "\n",
       "\n",
       "    \n",
       "\n",
       "    \n",
       "\n",
       "    \n",
       "\n",
       "    \n",
       "\n",
       "    \n",
       "\n",
       "    \n",
       "\n",
       "\n",
       "\n"
      ],
      "text/plain": [
       "<IPython.core.display.HTML object>"
      ]
     },
     "execution_count": 31,
     "metadata": {},
     "output_type": "execute_result"
    }
   ],
   "source": [
    "perm = PermutationImportance(svm, scoring = 'recall', random_state=67235).fit(X_test, y_test)\n",
    "eli5.show_weights(perm, feature_names = X_test.columns.tolist(), top=10)"
   ]
  },
  {
   "cell_type": "markdown",
   "metadata": {},
   "source": [
    "## Train Random Forest Classifier"
   ]
  },
  {
   "cell_type": "code",
   "execution_count": 32,
   "metadata": {},
   "outputs": [
    {
     "data": {
      "text/plain": [
       "GridSearchCV(estimator=RandomForestClassifier(),\n",
       "             param_grid={'bootstrap': ['True', 'False'],\n",
       "                         'criterion': ['entropy', 'gini'],\n",
       "                         'max_depth': [1, 2, 3, 4, 5, 6, 7, 8, 9, 10],\n",
       "                         'max_features': ['sqrt', 'log2', 'auto'],\n",
       "                         'n_estimators': [5, 10, 20],\n",
       "                         'oob_score': ['True', 'False']},\n",
       "             scoring='accuracy')"
      ]
     },
     "execution_count": 32,
     "metadata": {},
     "output_type": "execute_result"
    }
   ],
   "source": [
    "parameters = {\n",
    "            'n_estimators':[5,10,20], \n",
    "            'criterion':['entropy', 'gini'],\n",
    "            'max_depth':[1,2,3,4,5,6,7,8,9,10],\n",
    "            'max_features':['sqrt','log2', 'auto'],\n",
    "            'bootstrap': ['True', 'False'],\n",
    "            'oob_score': ['True', 'False'],   \n",
    "}\n",
    "\n",
    "\n",
    "grid_search_cv = GridSearchCV(RandomForestClassifier(), parameters, scoring = 'accuracy')\n",
    "grid_search_cv.fit(X_train, y_train)"
   ]
  },
  {
   "cell_type": "code",
   "execution_count": 33,
   "metadata": {},
   "outputs": [
    {
     "data": {
      "text/plain": [
       "RandomForestClassifier(bootstrap='True', criterion='entropy', max_depth=2,\n",
       "                       n_estimators=5, oob_score='True')"
      ]
     },
     "execution_count": 33,
     "metadata": {},
     "output_type": "execute_result"
    }
   ],
   "source": [
    "grid_search_cv.best_estimator_"
   ]
  },
  {
   "cell_type": "code",
   "execution_count": 34,
   "metadata": {},
   "outputs": [
    {
     "data": {
      "text/plain": [
       "0.6678571428571429"
      ]
     },
     "execution_count": 34,
     "metadata": {},
     "output_type": "execute_result"
    }
   ],
   "source": [
    "grid_search_cv.best_score_"
   ]
  },
  {
   "cell_type": "code",
   "execution_count": 43,
   "metadata": {},
   "outputs": [
    {
     "data": {
      "text/plain": [
       "0.775"
      ]
     },
     "execution_count": 43,
     "metadata": {},
     "output_type": "execute_result"
    }
   ],
   "source": [
    "rfc=RandomForestClassifier(bootstrap='True', criterion='entropy', max_depth=12,\n",
    "                       n_estimators=6, max_features='sqrt', random_state=67235)\n",
    "rfc.fit(X_train, y_train)\n",
    "rfc.score(X_train, y_train)"
   ]
  },
  {
   "cell_type": "code",
   "execution_count": 44,
   "metadata": {},
   "outputs": [
    {
     "name": "stdout",
     "output_type": "stream",
     "text": [
      "              precision    recall  f1-score   support\n",
      "\n",
      "           0       0.73      0.71      0.72        38\n",
      "           1       0.67      0.69      0.68        32\n",
      "\n",
      "    accuracy                           0.70        70\n",
      "   macro avg       0.70      0.70      0.70        70\n",
      "weighted avg       0.70      0.70      0.70        70\n",
      "\n"
     ]
    }
   ],
   "source": [
    "y_pred = rfc.predict(X_test)\n",
    "print (classification_report(y_test, y_pred.round()))"
   ]
  },
  {
   "cell_type": "code",
   "execution_count": 45,
   "metadata": {},
   "outputs": [
    {
     "data": {
      "image/png": "[encoded data removed]",
      "text/plain": [
       "<Figure size 576x432 with 2 Axes>"
      ]
     },
     "metadata": {},
     "output_type": "display_data"
    }
   ],
   "source": [
    "plot_cm(y_test, y_pred, figsize=(8,6))"
   ]
  },
  {
   "cell_type": "code",
   "execution_count": 46,
   "metadata": {},
   "outputs": [
    {
     "data": {
      "image/png": "[encoded data removed]",
      "text/plain": [
       "<Figure size 1152x864 with 1 Axes>"
      ]
     },
     "metadata": {},
     "output_type": "display_data"
    }
   ],
   "source": [
    "_ = pd.DataFrame({'feature_importance': rfc.feature_importances_,\n",
    "                  'variavel': X_train.columns}).sort_values('feature_importance', ascending=False)\n",
    "plt.figure(figsize=(16, 12))\n",
    "sns.barplot(data=_[:10], y='variavel', x='feature_importance', orient='h')\n",
    "graphic_boost('Feature importance Random Forest Classifier', \n",
    "                    'Feature importance', '')"
   ]
  },
  {
   "cell_type": "code",
   "execution_count": 47,
   "metadata": {},
   "outputs": [],
   "source": [
    "models_name = ['RandomForestClassifier', 'SVC']\n",
    "models = [rfc, svm]\n",
    "\n",
    "def compare_roc_curves(X_train, y_train, X_test, y_test, models):\n",
    "    fig, ax = plt.subplots(figsize=(8,6))\n",
    "    \n",
    "    for model in models:   \n",
    "        model.fit(X_train, y_train)\n",
    "        plot_roc_curve(model, X_test, y_test, ax=ax)\n",
    "     \n",
    "        ax.grid(linestyle='--')\n",
    "        ax.set_ylabel('TPR', fontsize=18)\n",
    "        ax.set_xlabel('FPR', fontsize=18)\n",
    "        ax.set_title('Compare ROC curves - Test set for Disease groups and demographic features', fontsize=18)\n",
    "        ax.legend(bbox_to_anchor=(1,1), fontsize='large', title='Classifiers:', title_fontsize=18, labelspacing=0.8); "
   ]
  },
  {
   "cell_type": "code",
   "execution_count": 48,
   "metadata": {},
   "outputs": [
    {
     "data": {
      "image/png": "[encoded data removed]",
      "text/plain": [
       "<Figure size 576x432 with 1 Axes>"
      ]
     },
     "metadata": {},
     "output_type": "display_data"
    }
   ],
   "source": [
    "compare_roc_curves(X_train, y_train, X_test, y_test, models)"
   ]
  },
  {
   "cell_type": "code",
   "execution_count": null,
   "metadata": {},
   "outputs": [],
   "source": []
  }
 ],
 "metadata": {
  "kernelspec": {
   "display_name": "Python 3",
   "language": "python",
   "name": "python3"
  },
  "language_info": {
   "codemirror_mode": {
    "name": "ipython",
    "version": 3
   },
   "file_extension": ".py",
   "mimetype": "text/x-python",
   "name": "python",
   "nbconvert_exporter": "python",
   "pygments_lexer": "ipython3",
   "version": "3.8.6"
  }
 },
 "nbformat": 4,
 "nbformat_minor": 4
}
