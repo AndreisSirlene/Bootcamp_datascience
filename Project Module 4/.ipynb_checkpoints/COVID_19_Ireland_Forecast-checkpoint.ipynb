{
 "cells": [
  {
   "cell_type": "markdown",
   "metadata": {},
   "source": [
    "## COVID-19 Cases in Ireland Time Forecasting\n",
    "\n",
    "#### Introduction:\n",
    "\n",
    "This dataset contains Covid-19 Daily Statistics for Ireland by County polygon as reported by the Health Surveillance Protection Centre.The latest record was 21-01-2021.\n",
    "\n",
    "COVID-19 is thought to spread mainly through close contact from person to person, including between people who are physically near each other (within about 6 feet). People who are infected but do not show symptoms can also spread the virus to others. Cases of reinfection with COVID-19  have been reported but are rare. We are still learning about how the virus spreads and the severity of illness it causes.\n",
    "\n",
    "\n",
    "#### Main Sympthoms\n",
    "\n",
    "* When people with COVID-19 cough, sneeze, sing, talk, or breathe they produce respiratory droplets. These droplets can range in size from larger droplets (some of which are visible) to smaller droplets. Small droplets can also form particles when they dry very quickly in the airstream.\n",
    "\n",
    "Infections occur mainly through exposure to respiratory droplets when a person is in close contact with someone who has COVID-19.\n",
    "\n",
    "Respiratory droplets cause infection when they are inhaled or deposited on mucous membranes, such as those that line the inside of the nose and mouth.\n",
    "As the respiratory droplets travel further from the person with COVID-19, the concentration of these droplets decreases. Larger droplets fall out of the air due to gravity. Smaller droplets and particles spread apart in the air.\n",
    "With passing time, the amount of infectious virus in respiratory droplets also decreases.\n",
    "\n",
    "### Dataset:\n",
    "\n",
    "$Covid19$ $County$ $Statistics$ $HPSC$ $Ireland$\n",
    "\n",
    "This dataset contains Covid-19 Daily Statistics for Ireland by County polygon as reported by the Health Surveillance Protection Centre.The latest record was 21-01-2021.\n",
    "\n",
    "Dataset font: https://data.gov.ie/dataset/covid19countystatisticshpscireland1/resource/9ec1cba9-a9a9-4890-a4cc-980f4676197b"
   ]
  },
  {
   "cell_type": "markdown",
   "metadata": {},
   "source": [
    "\n",
    "### Quoting George Box:\n",
    "$All$ $models$ $are$ $wrong,$ $but$ $some$ $are$ $useful$ \n",
    "\n",
    "George Edward Pelham Box, was a British statistician, who worked in the areas of quality control, time-series analysis, design of experiments, and Bayesian inference. He has been called \"one of the great statistical minds of the 20th century\"."
   ]
  },
  {
   "cell_type": "code",
   "execution_count": 1,
   "metadata": {},
   "outputs": [],
   "source": [
    "import pandas as pd\n",
    "import numpy as np\n",
    "from statsmodels.tsa.seasonal import seasonal_decompose\n",
    "import matplotlib.pyplot as plt\n",
    "import matplotlib.ticker as ticker\n",
    "import seaborn as sns\n",
    "import warnings\n",
    "warnings.filterwarnings('ignore')\n",
    "%matplotlib inline\n",
    "plt.style.use('ggplot')\n"
   ]
  },
  {
   "cell_type": "code",
   "execution_count": 2,
   "metadata": {
    "scrolled": true
   },
   "outputs": [
    {
     "data": {
      "text/html": [
       "<div>\n",
       "<style scoped>\n",
       "    .dataframe tbody tr th:only-of-type {\n",
       "        vertical-align: middle;\n",
       "    }\n",
       "\n",
       "    .dataframe tbody tr th {\n",
       "        vertical-align: top;\n",
       "    }\n",
       "\n",
       "    .dataframe thead th {\n",
       "        text-align: right;\n",
       "    }\n",
       "</style>\n",
       "<table border=\"1\" class=\"dataframe\">\n",
       "  <thead>\n",
       "    <tr style=\"text-align: right;\">\n",
       "      <th></th>\n",
       "      <th>OBJECTID</th>\n",
       "      <th>ORIGID</th>\n",
       "      <th>CountyName</th>\n",
       "      <th>PopulationCensus16</th>\n",
       "      <th>TimeStamp</th>\n",
       "      <th>IGEasting</th>\n",
       "      <th>IGNorthing</th>\n",
       "      <th>Lat</th>\n",
       "      <th>Long</th>\n",
       "      <th>UGI</th>\n",
       "      <th>ConfirmedCovidCases</th>\n",
       "      <th>PopulationProportionCovidCases</th>\n",
       "      <th>ConfirmedCovidDeaths</th>\n",
       "      <th>ConfirmedCovidRecovered</th>\n",
       "      <th>Shape__Area</th>\n",
       "      <th>Shape__Length</th>\n",
       "    </tr>\n",
       "  </thead>\n",
       "  <tbody>\n",
       "    <tr>\n",
       "      <th>0</th>\n",
       "      <td>1</td>\n",
       "      <td>1</td>\n",
       "      <td>Carlow</td>\n",
       "      <td>56932</td>\n",
       "      <td>2020/02/27 00:00:00+00</td>\n",
       "      <td>278661</td>\n",
       "      <td>163444</td>\n",
       "      <td>52.7168</td>\n",
       "      <td>-6.8367</td>\n",
       "      <td>http://data.geohive.ie/resource/county/2ae1962...</td>\n",
       "      <td>0</td>\n",
       "      <td>NaN</td>\n",
       "      <td>NaN</td>\n",
       "      <td>NaN</td>\n",
       "      <td>2.432352e+09</td>\n",
       "      <td>3.193486e+05</td>\n",
       "    </tr>\n",
       "    <tr>\n",
       "      <th>1</th>\n",
       "      <td>2</td>\n",
       "      <td>2</td>\n",
       "      <td>Cavan</td>\n",
       "      <td>76176</td>\n",
       "      <td>2020/02/27 00:00:00+00</td>\n",
       "      <td>246380</td>\n",
       "      <td>304501</td>\n",
       "      <td>53.9878</td>\n",
       "      <td>-7.2937</td>\n",
       "      <td>http://data.geohive.ie/resource/county/2ae1962...</td>\n",
       "      <td>0</td>\n",
       "      <td>NaN</td>\n",
       "      <td>NaN</td>\n",
       "      <td>NaN</td>\n",
       "      <td>5.575010e+09</td>\n",
       "      <td>5.159545e+05</td>\n",
       "    </tr>\n",
       "    <tr>\n",
       "      <th>2</th>\n",
       "      <td>3</td>\n",
       "      <td>3</td>\n",
       "      <td>Clare</td>\n",
       "      <td>118817</td>\n",
       "      <td>2020/02/27 00:00:00+00</td>\n",
       "      <td>133493</td>\n",
       "      <td>182732</td>\n",
       "      <td>52.8917</td>\n",
       "      <td>-8.9889</td>\n",
       "      <td>http://data.geohive.ie/resource/county/2ae1962...</td>\n",
       "      <td>0</td>\n",
       "      <td>NaN</td>\n",
       "      <td>NaN</td>\n",
       "      <td>NaN</td>\n",
       "      <td>8.722542e+09</td>\n",
       "      <td>1.013949e+06</td>\n",
       "    </tr>\n",
       "    <tr>\n",
       "      <th>3</th>\n",
       "      <td>4</td>\n",
       "      <td>4</td>\n",
       "      <td>Cork</td>\n",
       "      <td>542868</td>\n",
       "      <td>2020/02/27 00:00:00+00</td>\n",
       "      <td>156242</td>\n",
       "      <td>77860</td>\n",
       "      <td>51.9517</td>\n",
       "      <td>-8.6372</td>\n",
       "      <td>http://data.geohive.ie/resource/county/2ae1962...</td>\n",
       "      <td>0</td>\n",
       "      <td>NaN</td>\n",
       "      <td>NaN</td>\n",
       "      <td>NaN</td>\n",
       "      <td>1.952949e+10</td>\n",
       "      <td>2.129949e+06</td>\n",
       "    </tr>\n",
       "    <tr>\n",
       "      <th>4</th>\n",
       "      <td>5</td>\n",
       "      <td>5</td>\n",
       "      <td>Donegal</td>\n",
       "      <td>159192</td>\n",
       "      <td>2020/02/27 00:00:00+00</td>\n",
       "      <td>202615</td>\n",
       "      <td>405691</td>\n",
       "      <td>54.8989</td>\n",
       "      <td>-7.9600</td>\n",
       "      <td>http://data.geohive.ie/resource/county/2ae1962...</td>\n",
       "      <td>0</td>\n",
       "      <td>NaN</td>\n",
       "      <td>NaN</td>\n",
       "      <td>NaN</td>\n",
       "      <td>1.462404e+10</td>\n",
       "      <td>2.145086e+06</td>\n",
       "    </tr>\n",
       "  </tbody>\n",
       "</table>\n",
       "</div>"
      ],
      "text/plain": [
       "   OBJECTID  ORIGID CountyName  PopulationCensus16               TimeStamp  \\\n",
       "0         1       1     Carlow               56932  2020/02/27 00:00:00+00   \n",
       "1         2       2      Cavan               76176  2020/02/27 00:00:00+00   \n",
       "2         3       3      Clare              118817  2020/02/27 00:00:00+00   \n",
       "3         4       4       Cork              542868  2020/02/27 00:00:00+00   \n",
       "4         5       5    Donegal              159192  2020/02/27 00:00:00+00   \n",
       "\n",
       "   IGEasting  IGNorthing      Lat    Long  \\\n",
       "0     278661      163444  52.7168 -6.8367   \n",
       "1     246380      304501  53.9878 -7.2937   \n",
       "2     133493      182732  52.8917 -8.9889   \n",
       "3     156242       77860  51.9517 -8.6372   \n",
       "4     202615      405691  54.8989 -7.9600   \n",
       "\n",
       "                                                 UGI  ConfirmedCovidCases  \\\n",
       "0  http://data.geohive.ie/resource/county/2ae1962...                    0   \n",
       "1  http://data.geohive.ie/resource/county/2ae1962...                    0   \n",
       "2  http://data.geohive.ie/resource/county/2ae1962...                    0   \n",
       "3  http://data.geohive.ie/resource/county/2ae1962...                    0   \n",
       "4  http://data.geohive.ie/resource/county/2ae1962...                    0   \n",
       "\n",
       "   PopulationProportionCovidCases  ConfirmedCovidDeaths  \\\n",
       "0                             NaN                   NaN   \n",
       "1                             NaN                   NaN   \n",
       "2                             NaN                   NaN   \n",
       "3                             NaN                   NaN   \n",
       "4                             NaN                   NaN   \n",
       "\n",
       "   ConfirmedCovidRecovered   Shape__Area  Shape__Length  \n",
       "0                      NaN  2.432352e+09   3.193486e+05  \n",
       "1                      NaN  5.575010e+09   5.159545e+05  \n",
       "2                      NaN  8.722542e+09   1.013949e+06  \n",
       "3                      NaN  1.952949e+10   2.129949e+06  \n",
       "4                      NaN  1.462404e+10   2.145086e+06  "
      ]
     },
     "execution_count": 2,
     "metadata": {},
     "output_type": "execute_result"
    }
   ],
   "source": [
    "url ='https://github.com/AndreisSirlene/Bootcamp_datascience/raw/main/Project%20Module%204/Covid19CountyStatisticsHPSCIreland.csv'\n",
    "covid_ie = pd.read_csv(url)\n",
    "covid_ie.head()"
   ]
  },
  {
   "cell_type": "code",
   "execution_count": 3,
   "metadata": {},
   "outputs": [
    {
     "data": {
      "text/plain": [
       "(8502, 16)"
      ]
     },
     "execution_count": 3,
     "metadata": {},
     "output_type": "execute_result"
    }
   ],
   "source": [
    "covid_ie.shape"
   ]
  },
  {
   "cell_type": "code",
   "execution_count": 4,
   "metadata": {},
   "outputs": [
    {
     "name": "stdout",
     "output_type": "stream",
     "text": [
      "<class 'pandas.core.frame.DataFrame'>\n",
      "RangeIndex: 8502 entries, 0 to 8501\n",
      "Data columns (total 16 columns):\n",
      " #   Column                          Non-Null Count  Dtype  \n",
      "---  ------                          --------------  -----  \n",
      " 0   OBJECTID                        8502 non-null   int64  \n",
      " 1   ORIGID                          8502 non-null   int64  \n",
      " 2   CountyName                      8502 non-null   object \n",
      " 3   PopulationCensus16              8502 non-null   int64  \n",
      " 4   TimeStamp                       8502 non-null   object \n",
      " 5   IGEasting                       8502 non-null   int64  \n",
      " 6   IGNorthing                      8502 non-null   int64  \n",
      " 7   Lat                             8502 non-null   float64\n",
      " 8   Long                            8502 non-null   float64\n",
      " 9   UGI                             8502 non-null   object \n",
      " 10  ConfirmedCovidCases             8502 non-null   int64  \n",
      " 11  PopulationProportionCovidCases  7956 non-null   float64\n",
      " 12  ConfirmedCovidDeaths            0 non-null      float64\n",
      " 13  ConfirmedCovidRecovered         0 non-null      float64\n",
      " 14  Shape__Area                     8502 non-null   float64\n",
      " 15  Shape__Length                   8502 non-null   float64\n",
      "dtypes: float64(7), int64(6), object(3)\n",
      "memory usage: 1.0+ MB\n"
     ]
    }
   ],
   "source": [
    "covid_ie.info()"
   ]
  },
  {
   "cell_type": "code",
   "execution_count": 5,
   "metadata": {},
   "outputs": [
    {
     "data": {
      "text/html": [
       "<div>\n",
       "<style scoped>\n",
       "    .dataframe tbody tr th:only-of-type {\n",
       "        vertical-align: middle;\n",
       "    }\n",
       "\n",
       "    .dataframe tbody tr th {\n",
       "        vertical-align: top;\n",
       "    }\n",
       "\n",
       "    .dataframe thead th {\n",
       "        text-align: right;\n",
       "    }\n",
       "</style>\n",
       "<table border=\"1\" class=\"dataframe\">\n",
       "  <thead>\n",
       "    <tr style=\"text-align: right;\">\n",
       "      <th></th>\n",
       "      <th>CountyName</th>\n",
       "      <th>PopulationCensus16</th>\n",
       "      <th>TimeStamp</th>\n",
       "      <th>IGEasting</th>\n",
       "      <th>IGNorthing</th>\n",
       "      <th>ConfirmedCovidCases</th>\n",
       "      <th>PopulationProportionCovidCases</th>\n",
       "    </tr>\n",
       "  </thead>\n",
       "  <tbody>\n",
       "    <tr>\n",
       "      <th>0</th>\n",
       "      <td>Carlow</td>\n",
       "      <td>56932</td>\n",
       "      <td>2020/02/27 00:00:00+00</td>\n",
       "      <td>278661</td>\n",
       "      <td>163444</td>\n",
       "      <td>0</td>\n",
       "      <td>NaN</td>\n",
       "    </tr>\n",
       "    <tr>\n",
       "      <th>1</th>\n",
       "      <td>Cavan</td>\n",
       "      <td>76176</td>\n",
       "      <td>2020/02/27 00:00:00+00</td>\n",
       "      <td>246380</td>\n",
       "      <td>304501</td>\n",
       "      <td>0</td>\n",
       "      <td>NaN</td>\n",
       "    </tr>\n",
       "    <tr>\n",
       "      <th>2</th>\n",
       "      <td>Clare</td>\n",
       "      <td>118817</td>\n",
       "      <td>2020/02/27 00:00:00+00</td>\n",
       "      <td>133493</td>\n",
       "      <td>182732</td>\n",
       "      <td>0</td>\n",
       "      <td>NaN</td>\n",
       "    </tr>\n",
       "    <tr>\n",
       "      <th>3</th>\n",
       "      <td>Cork</td>\n",
       "      <td>542868</td>\n",
       "      <td>2020/02/27 00:00:00+00</td>\n",
       "      <td>156242</td>\n",
       "      <td>77860</td>\n",
       "      <td>0</td>\n",
       "      <td>NaN</td>\n",
       "    </tr>\n",
       "    <tr>\n",
       "      <th>4</th>\n",
       "      <td>Donegal</td>\n",
       "      <td>159192</td>\n",
       "      <td>2020/02/27 00:00:00+00</td>\n",
       "      <td>202615</td>\n",
       "      <td>405691</td>\n",
       "      <td>0</td>\n",
       "      <td>NaN</td>\n",
       "    </tr>\n",
       "  </tbody>\n",
       "</table>\n",
       "</div>"
      ],
      "text/plain": [
       "  CountyName  PopulationCensus16               TimeStamp  IGEasting  \\\n",
       "0     Carlow               56932  2020/02/27 00:00:00+00     278661   \n",
       "1      Cavan               76176  2020/02/27 00:00:00+00     246380   \n",
       "2      Clare              118817  2020/02/27 00:00:00+00     133493   \n",
       "3       Cork              542868  2020/02/27 00:00:00+00     156242   \n",
       "4    Donegal              159192  2020/02/27 00:00:00+00     202615   \n",
       "\n",
       "   IGNorthing  ConfirmedCovidCases  PopulationProportionCovidCases  \n",
       "0      163444                    0                             NaN  \n",
       "1      304501                    0                             NaN  \n",
       "2      182732                    0                             NaN  \n",
       "3       77860                    0                             NaN  \n",
       "4      405691                    0                             NaN  "
      ]
     },
     "execution_count": 5,
     "metadata": {},
     "output_type": "execute_result"
    }
   ],
   "source": [
    "covid_ie = covid_ie.drop(['ORIGID','OBJECTID','Lat','Long','UGI','Shape__Area','Shape__Length','ConfirmedCovidRecovered',\n",
    "                          'ConfirmedCovidDeaths'],axis=1)\n",
    "\n",
    "covid_ie.head()"
   ]
  },
  {
   "cell_type": "code",
   "execution_count": 6,
   "metadata": {},
   "outputs": [
    {
     "data": {
      "text/html": [
       "<div>\n",
       "<style scoped>\n",
       "    .dataframe tbody tr th:only-of-type {\n",
       "        vertical-align: middle;\n",
       "    }\n",
       "\n",
       "    .dataframe tbody tr th {\n",
       "        vertical-align: top;\n",
       "    }\n",
       "\n",
       "    .dataframe thead th {\n",
       "        text-align: right;\n",
       "    }\n",
       "</style>\n",
       "<table border=\"1\" class=\"dataframe\">\n",
       "  <thead>\n",
       "    <tr style=\"text-align: right;\">\n",
       "      <th></th>\n",
       "      <th>CountyName</th>\n",
       "      <th>PopulationCensus16</th>\n",
       "      <th>Date</th>\n",
       "      <th>IGEasting</th>\n",
       "      <th>IGNorthing</th>\n",
       "      <th>ConfirmedCovidCases</th>\n",
       "      <th>PopulationProportionCovidCases</th>\n",
       "      <th>Day</th>\n",
       "      <th>Month</th>\n",
       "      <th>Year</th>\n",
       "    </tr>\n",
       "  </thead>\n",
       "  <tbody>\n",
       "    <tr>\n",
       "      <th>8497</th>\n",
       "      <td>Tipperary</td>\n",
       "      <td>159553</td>\n",
       "      <td>2021-01-20</td>\n",
       "      <td>205427</td>\n",
       "      <td>154345</td>\n",
       "      <td>3950</td>\n",
       "      <td>2475.666393</td>\n",
       "      <td>20</td>\n",
       "      <td>1</td>\n",
       "      <td>2021</td>\n",
       "    </tr>\n",
       "    <tr>\n",
       "      <th>8498</th>\n",
       "      <td>Waterford</td>\n",
       "      <td>116176</td>\n",
       "      <td>2021-01-20</td>\n",
       "      <td>234676</td>\n",
       "      <td>105809</td>\n",
       "      <td>4039</td>\n",
       "      <td>3476.621677</td>\n",
       "      <td>20</td>\n",
       "      <td>1</td>\n",
       "      <td>2021</td>\n",
       "    </tr>\n",
       "    <tr>\n",
       "      <th>8499</th>\n",
       "      <td>Westmeath</td>\n",
       "      <td>88770</td>\n",
       "      <td>2021-01-20</td>\n",
       "      <td>238362</td>\n",
       "      <td>255966</td>\n",
       "      <td>2584</td>\n",
       "      <td>2910.893320</td>\n",
       "      <td>20</td>\n",
       "      <td>1</td>\n",
       "      <td>2021</td>\n",
       "    </tr>\n",
       "    <tr>\n",
       "      <th>8500</th>\n",
       "      <td>Wexford</td>\n",
       "      <td>149722</td>\n",
       "      <td>2021-01-20</td>\n",
       "      <td>301627</td>\n",
       "      <td>141559</td>\n",
       "      <td>5283</td>\n",
       "      <td>3528.539560</td>\n",
       "      <td>20</td>\n",
       "      <td>1</td>\n",
       "      <td>2021</td>\n",
       "    </tr>\n",
       "    <tr>\n",
       "      <th>8501</th>\n",
       "      <td>Wicklow</td>\n",
       "      <td>142425</td>\n",
       "      <td>2021-01-20</td>\n",
       "      <td>311162</td>\n",
       "      <td>197894</td>\n",
       "      <td>3350</td>\n",
       "      <td>2352.115148</td>\n",
       "      <td>20</td>\n",
       "      <td>1</td>\n",
       "      <td>2021</td>\n",
       "    </tr>\n",
       "  </tbody>\n",
       "</table>\n",
       "</div>"
      ],
      "text/plain": [
       "     CountyName  PopulationCensus16       Date  IGEasting  IGNorthing  \\\n",
       "8497  Tipperary              159553 2021-01-20     205427      154345   \n",
       "8498  Waterford              116176 2021-01-20     234676      105809   \n",
       "8499  Westmeath               88770 2021-01-20     238362      255966   \n",
       "8500    Wexford              149722 2021-01-20     301627      141559   \n",
       "8501    Wicklow              142425 2021-01-20     311162      197894   \n",
       "\n",
       "      ConfirmedCovidCases  PopulationProportionCovidCases  Day  Month  Year  \n",
       "8497                 3950                     2475.666393   20      1  2021  \n",
       "8498                 4039                     3476.621677   20      1  2021  \n",
       "8499                 2584                     2910.893320   20      1  2021  \n",
       "8500                 5283                     3528.539560   20      1  2021  \n",
       "8501                 3350                     2352.115148   20      1  2021  "
      ]
     },
     "execution_count": 6,
     "metadata": {},
     "output_type": "execute_result"
    }
   ],
   "source": [
    "covid_ie.rename({'TimeStamp': 'Date'}, axis=1, inplace=True)\n",
    "covid_ie['Date'] = pd.to_datetime(covid_ie['Date'].astype('datetime64'))\n",
    "covid_ie['Date'].dt.strftime('%Y-%m-%d')\n",
    "covid_ie['Day'] = covid_ie['Date'].dt.day\n",
    "covid_ie['Month'] = covid_ie['Date'].dt.month\n",
    "covid_ie['Year'] = covid_ie['Date'].dt.year\n",
    "covid_ie.tail()"
   ]
  },
  {
   "cell_type": "code",
   "execution_count": 7,
   "metadata": {},
   "outputs": [
    {
     "data": {
      "text/plain": [
       "[('PopulationProportionCovidCases', 546)]"
      ]
     },
     "execution_count": 7,
     "metadata": {},
     "output_type": "execute_result"
    }
   ],
   "source": [
    "[(col,covid_ie[col].isnull().sum()) for col in covid_ie.columns if covid_ie[col].isnull().any()]"
   ]
  },
  {
   "cell_type": "code",
   "execution_count": 8,
   "metadata": {},
   "outputs": [],
   "source": [
    "#covid_ie['PopulationProportionCovidCases'] = covid_ie['PopulationProportionCovidCases'].fillna('0')"
   ]
  },
  {
   "cell_type": "code",
   "execution_count": 9,
   "metadata": {},
   "outputs": [
    {
     "data": {
      "text/plain": [
       "CountyName                          0\n",
       "PopulationCensus16                  0\n",
       "Date                                0\n",
       "IGEasting                           0\n",
       "IGNorthing                          0\n",
       "ConfirmedCovidCases                 0\n",
       "PopulationProportionCovidCases    546\n",
       "Day                                 0\n",
       "Month                               0\n",
       "Year                                0\n",
       "dtype: int64"
      ]
     },
     "execution_count": 9,
     "metadata": {},
     "output_type": "execute_result"
    }
   ],
   "source": [
    "covid_ie.isnull().sum()"
   ]
  },
  {
   "cell_type": "code",
   "execution_count": 10,
   "metadata": {},
   "outputs": [
    {
     "name": "stdout",
     "output_type": "stream",
     "text": [
      "2020-02-27 00:00:00\n",
      "2021-01-20 00:00:00\n"
     ]
    }
   ],
   "source": [
    "print(min(covid_ie['Date']))\n",
    "print(max(covid_ie['Date']))"
   ]
  },
  {
   "cell_type": "code",
   "execution_count": 11,
   "metadata": {},
   "outputs": [
    {
     "data": {
      "text/html": [
       "<div>\n",
       "<style scoped>\n",
       "    .dataframe tbody tr th:only-of-type {\n",
       "        vertical-align: middle;\n",
       "    }\n",
       "\n",
       "    .dataframe tbody tr th {\n",
       "        vertical-align: top;\n",
       "    }\n",
       "\n",
       "    .dataframe thead th {\n",
       "        text-align: right;\n",
       "    }\n",
       "</style>\n",
       "<table border=\"1\" class=\"dataframe\">\n",
       "  <thead>\n",
       "    <tr style=\"text-align: right;\">\n",
       "      <th></th>\n",
       "      <th>CountyName</th>\n",
       "      <th>PopulationCensus16</th>\n",
       "      <th>Date</th>\n",
       "      <th>IGEasting</th>\n",
       "      <th>IGNorthing</th>\n",
       "      <th>ConfirmedCovidCases</th>\n",
       "      <th>PopulationProportionCovidCases</th>\n",
       "      <th>Day</th>\n",
       "      <th>Month</th>\n",
       "      <th>Year</th>\n",
       "    </tr>\n",
       "  </thead>\n",
       "  <tbody>\n",
       "    <tr>\n",
       "      <th>8476</th>\n",
       "      <td>Carlow</td>\n",
       "      <td>56932</td>\n",
       "      <td>2021-01-20</td>\n",
       "      <td>278661</td>\n",
       "      <td>163444</td>\n",
       "      <td>2156</td>\n",
       "      <td>3786.973934</td>\n",
       "      <td>20</td>\n",
       "      <td>1</td>\n",
       "      <td>2021</td>\n",
       "    </tr>\n",
       "    <tr>\n",
       "      <th>8477</th>\n",
       "      <td>Cavan</td>\n",
       "      <td>76176</td>\n",
       "      <td>2021-01-20</td>\n",
       "      <td>246380</td>\n",
       "      <td>304501</td>\n",
       "      <td>4066</td>\n",
       "      <td>5337.639151</td>\n",
       "      <td>20</td>\n",
       "      <td>1</td>\n",
       "      <td>2021</td>\n",
       "    </tr>\n",
       "    <tr>\n",
       "      <th>8478</th>\n",
       "      <td>Clare</td>\n",
       "      <td>118817</td>\n",
       "      <td>2021-01-20</td>\n",
       "      <td>133493</td>\n",
       "      <td>182732</td>\n",
       "      <td>4040</td>\n",
       "      <td>3400.186842</td>\n",
       "      <td>20</td>\n",
       "      <td>1</td>\n",
       "      <td>2021</td>\n",
       "    </tr>\n",
       "    <tr>\n",
       "      <th>8479</th>\n",
       "      <td>Cork</td>\n",
       "      <td>542868</td>\n",
       "      <td>2021-01-20</td>\n",
       "      <td>156242</td>\n",
       "      <td>77860</td>\n",
       "      <td>18475</td>\n",
       "      <td>3403.221409</td>\n",
       "      <td>20</td>\n",
       "      <td>1</td>\n",
       "      <td>2021</td>\n",
       "    </tr>\n",
       "    <tr>\n",
       "      <th>8480</th>\n",
       "      <td>Donegal</td>\n",
       "      <td>159192</td>\n",
       "      <td>2021-01-20</td>\n",
       "      <td>202615</td>\n",
       "      <td>405691</td>\n",
       "      <td>7394</td>\n",
       "      <td>4644.705764</td>\n",
       "      <td>20</td>\n",
       "      <td>1</td>\n",
       "      <td>2021</td>\n",
       "    </tr>\n",
       "  </tbody>\n",
       "</table>\n",
       "</div>"
      ],
      "text/plain": [
       "     CountyName  PopulationCensus16       Date  IGEasting  IGNorthing  \\\n",
       "8476     Carlow               56932 2021-01-20     278661      163444   \n",
       "8477      Cavan               76176 2021-01-20     246380      304501   \n",
       "8478      Clare              118817 2021-01-20     133493      182732   \n",
       "8479       Cork              542868 2021-01-20     156242       77860   \n",
       "8480    Donegal              159192 2021-01-20     202615      405691   \n",
       "\n",
       "      ConfirmedCovidCases  PopulationProportionCovidCases  Day  Month  Year  \n",
       "8476                 2156                     3786.973934   20      1  2021  \n",
       "8477                 4066                     5337.639151   20      1  2021  \n",
       "8478                 4040                     3400.186842   20      1  2021  \n",
       "8479                18475                     3403.221409   20      1  2021  \n",
       "8480                 7394                     4644.705764   20      1  2021  "
      ]
     },
     "execution_count": 11,
     "metadata": {},
     "output_type": "execute_result"
    }
   ],
   "source": [
    "covid_ie_bycounty = covid_ie.loc[8476:]\n",
    "covid_ie_bycounty.head(5)"
   ]
  },
  {
   "cell_type": "code",
   "execution_count": 12,
   "metadata": {},
   "outputs": [
    {
     "data": {
      "image/png": "[encoded data removed]",
      "text/plain": [
       "<Figure size 1008x576 with 1 Axes>"
      ]
     },
     "metadata": {},
     "output_type": "display_data"
    }
   ],
   "source": [
    "ax = covid_ie_bycounty.plot(x='CountyName', y='ConfirmedCovidCases', figsize=(14,8), kind='bar')\n",
    "ax= plt.title('Cumulative confirmed COVID-19 cases by County - Ireland', fontsize=16);"
   ]
  },
  {
   "cell_type": "code",
   "execution_count": null,
   "metadata": {
    "scrolled": false
   },
   "outputs": [],
   "source": []
  },
  {
   "cell_type": "code",
   "execution_count": 16,
   "metadata": {},
   "outputs": [],
   "source": [
    "covid_ie_County= covid_ie.groupby(['Date','CountyName'],as_index = False)['PopulationProportionCovidCases'].sum().pivot('Date','CountyName')\n",
    "covid_ie_byCounty= covid_ie_County[\"PopulationProportionCovidCases\"].round()"
   ]
  },
  {
   "cell_type": "code",
   "execution_count": 17,
   "metadata": {},
   "outputs": [
    {
     "data": {
      "text/html": [
       "<div>\n",
       "<style scoped>\n",
       "    .dataframe tbody tr th:only-of-type {\n",
       "        vertical-align: middle;\n",
       "    }\n",
       "\n",
       "    .dataframe tbody tr th {\n",
       "        vertical-align: top;\n",
       "    }\n",
       "\n",
       "    .dataframe thead th {\n",
       "        text-align: right;\n",
       "    }\n",
       "</style>\n",
       "<table border=\"1\" class=\"dataframe\">\n",
       "  <thead>\n",
       "    <tr style=\"text-align: right;\">\n",
       "      <th>CountyName</th>\n",
       "      <th>Carlow</th>\n",
       "      <th>Cavan</th>\n",
       "      <th>Clare</th>\n",
       "      <th>Cork</th>\n",
       "      <th>Donegal</th>\n",
       "      <th>Dublin</th>\n",
       "      <th>Galway</th>\n",
       "      <th>Kerry</th>\n",
       "      <th>Kildare</th>\n",
       "      <th>Kilkenny</th>\n",
       "      <th>...</th>\n",
       "      <th>Meath</th>\n",
       "      <th>Monaghan</th>\n",
       "      <th>Offaly</th>\n",
       "      <th>Roscommon</th>\n",
       "      <th>Sligo</th>\n",
       "      <th>Tipperary</th>\n",
       "      <th>Waterford</th>\n",
       "      <th>Westmeath</th>\n",
       "      <th>Wexford</th>\n",
       "      <th>Wicklow</th>\n",
       "    </tr>\n",
       "    <tr>\n",
       "      <th>Date</th>\n",
       "      <th></th>\n",
       "      <th></th>\n",
       "      <th></th>\n",
       "      <th></th>\n",
       "      <th></th>\n",
       "      <th></th>\n",
       "      <th></th>\n",
       "      <th></th>\n",
       "      <th></th>\n",
       "      <th></th>\n",
       "      <th></th>\n",
       "      <th></th>\n",
       "      <th></th>\n",
       "      <th></th>\n",
       "      <th></th>\n",
       "      <th></th>\n",
       "      <th></th>\n",
       "      <th></th>\n",
       "      <th></th>\n",
       "      <th></th>\n",
       "      <th></th>\n",
       "    </tr>\n",
       "  </thead>\n",
       "  <tbody>\n",
       "    <tr>\n",
       "      <th>2020-03-21</th>\n",
       "      <td>5.0</td>\n",
       "      <td>4.0</td>\n",
       "      <td>8.0</td>\n",
       "      <td>19.0</td>\n",
       "      <td>5.0</td>\n",
       "      <td>35.0</td>\n",
       "      <td>13.0</td>\n",
       "      <td>8.0</td>\n",
       "      <td>10.0</td>\n",
       "      <td>15.0</td>\n",
       "      <td>...</td>\n",
       "      <td>7.0</td>\n",
       "      <td>5.0</td>\n",
       "      <td>13.0</td>\n",
       "      <td>5.0</td>\n",
       "      <td>12.0</td>\n",
       "      <td>13.0</td>\n",
       "      <td>8.0</td>\n",
       "      <td>23.0</td>\n",
       "      <td>2.0</td>\n",
       "      <td>15.0</td>\n",
       "    </tr>\n",
       "    <tr>\n",
       "      <th>2020-03-22</th>\n",
       "      <td>5.0</td>\n",
       "      <td>7.0</td>\n",
       "      <td>9.0</td>\n",
       "      <td>23.0</td>\n",
       "      <td>7.0</td>\n",
       "      <td>40.0</td>\n",
       "      <td>14.0</td>\n",
       "      <td>10.0</td>\n",
       "      <td>11.0</td>\n",
       "      <td>16.0</td>\n",
       "      <td>...</td>\n",
       "      <td>8.0</td>\n",
       "      <td>5.0</td>\n",
       "      <td>17.0</td>\n",
       "      <td>5.0</td>\n",
       "      <td>12.0</td>\n",
       "      <td>13.0</td>\n",
       "      <td>11.0</td>\n",
       "      <td>24.0</td>\n",
       "      <td>5.0</td>\n",
       "      <td>20.0</td>\n",
       "    </tr>\n",
       "    <tr>\n",
       "      <th>2020-03-23</th>\n",
       "      <td>5.0</td>\n",
       "      <td>7.0</td>\n",
       "      <td>10.0</td>\n",
       "      <td>24.0</td>\n",
       "      <td>7.0</td>\n",
       "      <td>49.0</td>\n",
       "      <td>16.0</td>\n",
       "      <td>22.0</td>\n",
       "      <td>15.0</td>\n",
       "      <td>16.0</td>\n",
       "      <td>...</td>\n",
       "      <td>12.0</td>\n",
       "      <td>5.0</td>\n",
       "      <td>17.0</td>\n",
       "      <td>5.0</td>\n",
       "      <td>12.0</td>\n",
       "      <td>13.0</td>\n",
       "      <td>13.0</td>\n",
       "      <td>28.0</td>\n",
       "      <td>5.0</td>\n",
       "      <td>27.0</td>\n",
       "    </tr>\n",
       "  </tbody>\n",
       "</table>\n",
       "<p>3 rows × 26 columns</p>\n",
       "</div>"
      ],
      "text/plain": [
       "CountyName  Carlow  Cavan  Clare  Cork  Donegal  Dublin  Galway  Kerry  \\\n",
       "Date                                                                     \n",
       "2020-03-21     5.0    4.0    8.0  19.0      5.0    35.0    13.0    8.0   \n",
       "2020-03-22     5.0    7.0    9.0  23.0      7.0    40.0    14.0   10.0   \n",
       "2020-03-23     5.0    7.0   10.0  24.0      7.0    49.0    16.0   22.0   \n",
       "\n",
       "CountyName  Kildare  Kilkenny  ...  Meath  Monaghan  Offaly  Roscommon  Sligo  \\\n",
       "Date                           ...                                              \n",
       "2020-03-21     10.0      15.0  ...    7.0       5.0    13.0        5.0   12.0   \n",
       "2020-03-22     11.0      16.0  ...    8.0       5.0    17.0        5.0   12.0   \n",
       "2020-03-23     15.0      16.0  ...   12.0       5.0    17.0        5.0   12.0   \n",
       "\n",
       "CountyName  Tipperary  Waterford  Westmeath  Wexford  Wicklow  \n",
       "Date                                                           \n",
       "2020-03-21       13.0        8.0       23.0      2.0     15.0  \n",
       "2020-03-22       13.0       11.0       24.0      5.0     20.0  \n",
       "2020-03-23       13.0       13.0       28.0      5.0     27.0  \n",
       "\n",
       "[3 rows x 26 columns]"
      ]
     },
     "execution_count": 17,
     "metadata": {},
     "output_type": "execute_result"
    }
   ],
   "source": [
    "covid_byCounty = covid_ie_byCounty.drop(covid_ie_byCounty.index[:21])\n",
    "covid_byCounty.head(3)"
   ]
  },
  {
   "cell_type": "code",
   "execution_count": 18,
   "metadata": {},
   "outputs": [
    {
     "data": {
      "image/png": "[encoded data removed]",
      "text/plain": [
       "<Figure size 1800x360 with 1 Axes>"
      ]
     },
     "metadata": {},
     "output_type": "display_data"
    }
   ],
   "source": [
    "plt.figure(figsize=(25,5))\n",
    "ax = plt.subplot(1,2,1)\n",
    "ax.set_title('Cumulative Cases', fontsize=18)\n",
    "plt.plot(covid_byCounty['Dublin'], label='Dublin')\n",
    "plt.plot(covid_byCounty['Cork'], label='Cork')\n",
    "plt.plot(covid_byCounty['Galway'], label='Galway')\n",
    "plt.xlabel(\"Date\")\n",
    "plt.ylabel(\"Cases\")\n",
    "plt.legend();"
   ]
  },
  {
   "cell_type": "code",
   "execution_count": null,
   "metadata": {},
   "outputs": [],
   "source": []
  },
  {
   "cell_type": "markdown",
   "metadata": {},
   "source": [
    "https://covid19.who.int/table "
   ]
  },
  {
   "cell_type": "code",
   "execution_count": null,
   "metadata": {},
   "outputs": [],
   "source": []
  },
  {
   "cell_type": "code",
   "execution_count": null,
   "metadata": {},
   "outputs": [],
   "source": []
  },
  {
   "cell_type": "markdown",
   "metadata": {},
   "source": [
    "Trendings and moving averages of time series\n",
    "The moving average (MA) is a simple technical analysis tool that smooths out price data by creating a constantly updated average price. The average is taken over a specific period of time, like 10 days, 20 minutes, 30 weeks or any time period choose.\n",
    "\n",
    "In statistics, a moving average is a calculation to analyze data points by creating a series of averages of different subsets of the full data set."
   ]
  },
  {
   "cell_type": "markdown",
   "metadata": {},
   "source": [
    "### Time Analysis"
   ]
  },
  {
   "cell_type": "markdown",
   "metadata": {},
   "source": [
    "**Using the moving average window interval of 3 months to plot Confirmed Covid Cases in Ireland**"
   ]
  },
  {
   "cell_type": "code",
   "execution_count": 19,
   "metadata": {},
   "outputs": [
    {
     "ename": "KeyError",
     "evalue": "'ConfirmedCovidCases'",
     "output_type": "error",
     "traceback": [
      "\u001b[1;31m---------------------------------------------------------------------------\u001b[0m",
      "\u001b[1;31mKeyError\u001b[0m                                  Traceback (most recent call last)",
      "\u001b[1;32mc:\\users\\sirle\\opencv\\lib\\site-packages\\pandas\\core\\indexes\\base.py\u001b[0m in \u001b[0;36mget_loc\u001b[1;34m(self, key, method, tolerance)\u001b[0m\n\u001b[0;32m   2894\u001b[0m             \u001b[1;32mtry\u001b[0m\u001b[1;33m:\u001b[0m\u001b[1;33m\u001b[0m\u001b[1;33m\u001b[0m\u001b[0m\n\u001b[1;32m-> 2895\u001b[1;33m                 \u001b[1;32mreturn\u001b[0m \u001b[0mself\u001b[0m\u001b[1;33m.\u001b[0m\u001b[0m_engine\u001b[0m\u001b[1;33m.\u001b[0m\u001b[0mget_loc\u001b[0m\u001b[1;33m(\u001b[0m\u001b[0mcasted_key\u001b[0m\u001b[1;33m)\u001b[0m\u001b[1;33m\u001b[0m\u001b[1;33m\u001b[0m\u001b[0m\n\u001b[0m\u001b[0;32m   2896\u001b[0m             \u001b[1;32mexcept\u001b[0m \u001b[0mKeyError\u001b[0m \u001b[1;32mas\u001b[0m \u001b[0merr\u001b[0m\u001b[1;33m:\u001b[0m\u001b[1;33m\u001b[0m\u001b[1;33m\u001b[0m\u001b[0m\n",
      "\u001b[1;32mpandas\\_libs\\index.pyx\u001b[0m in \u001b[0;36mpandas._libs.index.IndexEngine.get_loc\u001b[1;34m()\u001b[0m\n",
      "\u001b[1;32mpandas\\_libs\\index.pyx\u001b[0m in \u001b[0;36mpandas._libs.index.IndexEngine.get_loc\u001b[1;34m()\u001b[0m\n",
      "\u001b[1;32mpandas\\_libs\\hashtable_class_helper.pxi\u001b[0m in \u001b[0;36mpandas._libs.hashtable.PyObjectHashTable.get_item\u001b[1;34m()\u001b[0m\n",
      "\u001b[1;32mpandas\\_libs\\hashtable_class_helper.pxi\u001b[0m in \u001b[0;36mpandas._libs.hashtable.PyObjectHashTable.get_item\u001b[1;34m()\u001b[0m\n",
      "\u001b[1;31mKeyError\u001b[0m: 'ConfirmedCovidCases'",
      "\nThe above exception was the direct cause of the following exception:\n",
      "\u001b[1;31mKeyError\u001b[0m                                  Traceback (most recent call last)",
      "\u001b[1;32m<ipython-input-19-f4a04ec68eae>\u001b[0m in \u001b[0;36m<module>\u001b[1;34m\u001b[0m\n\u001b[0;32m      1\u001b[0m \u001b[1;31m#Using a variable igual 3 centred\u001b[0m\u001b[1;33m\u001b[0m\u001b[1;33m\u001b[0m\u001b[1;33m\u001b[0m\u001b[0m\n\u001b[1;32m----> 2\u001b[1;33m \u001b[0mcovid_byCounty\u001b[0m\u001b[1;33m[\u001b[0m\u001b[1;34m'Moving_Average_3c'\u001b[0m\u001b[1;33m]\u001b[0m \u001b[1;33m=\u001b[0m \u001b[0mcovid_byCounty\u001b[0m\u001b[1;33m[\u001b[0m\u001b[1;34m'ConfirmedCovidCases'\u001b[0m\u001b[1;33m]\u001b[0m\u001b[1;33m.\u001b[0m\u001b[0mrolling\u001b[0m\u001b[1;33m(\u001b[0m\u001b[1;36m3\u001b[0m\u001b[1;33m,\u001b[0m \u001b[0mcenter\u001b[0m\u001b[1;33m=\u001b[0m\u001b[1;32mTrue\u001b[0m\u001b[1;33m)\u001b[0m\u001b[1;33m.\u001b[0m\u001b[0mmean\u001b[0m\u001b[1;33m(\u001b[0m\u001b[1;33m)\u001b[0m\u001b[1;33m\u001b[0m\u001b[1;33m\u001b[0m\u001b[0m\n\u001b[0m\u001b[0;32m      3\u001b[0m \u001b[0mcovid_byCounty\u001b[0m\u001b[1;33m[\u001b[0m\u001b[1;34m'Moving_Average_3'\u001b[0m\u001b[1;33m]\u001b[0m \u001b[1;33m=\u001b[0m \u001b[0mcovid_byCounty\u001b[0m\u001b[1;33m[\u001b[0m\u001b[1;34m'ConfirmedCovidCases'\u001b[0m\u001b[1;33m]\u001b[0m\u001b[1;33m.\u001b[0m\u001b[0mrolling\u001b[0m\u001b[1;33m(\u001b[0m\u001b[1;36m3\u001b[0m\u001b[1;33m)\u001b[0m\u001b[1;33m.\u001b[0m\u001b[0mmean\u001b[0m\u001b[1;33m(\u001b[0m\u001b[1;33m)\u001b[0m\u001b[1;33m\u001b[0m\u001b[1;33m\u001b[0m\u001b[0m\n\u001b[0;32m      4\u001b[0m \u001b[1;33m\u001b[0m\u001b[0m\n\u001b[0;32m      5\u001b[0m \u001b[0mplt\u001b[0m\u001b[1;33m.\u001b[0m\u001b[0mfigure\u001b[0m\u001b[1;33m(\u001b[0m\u001b[0mfigsize\u001b[0m\u001b[1;33m=\u001b[0m\u001b[1;33m(\u001b[0m\u001b[1;36m18\u001b[0m\u001b[1;33m,\u001b[0m\u001b[1;36m8\u001b[0m\u001b[1;33m)\u001b[0m\u001b[1;33m)\u001b[0m\u001b[1;33m\u001b[0m\u001b[1;33m\u001b[0m\u001b[0m\n",
      "\u001b[1;32mc:\\users\\sirle\\opencv\\lib\\site-packages\\pandas\\core\\frame.py\u001b[0m in \u001b[0;36m__getitem__\u001b[1;34m(self, key)\u001b[0m\n\u001b[0;32m   2900\u001b[0m             \u001b[1;32mif\u001b[0m \u001b[0mself\u001b[0m\u001b[1;33m.\u001b[0m\u001b[0mcolumns\u001b[0m\u001b[1;33m.\u001b[0m\u001b[0mnlevels\u001b[0m \u001b[1;33m>\u001b[0m \u001b[1;36m1\u001b[0m\u001b[1;33m:\u001b[0m\u001b[1;33m\u001b[0m\u001b[1;33m\u001b[0m\u001b[0m\n\u001b[0;32m   2901\u001b[0m                 \u001b[1;32mreturn\u001b[0m \u001b[0mself\u001b[0m\u001b[1;33m.\u001b[0m\u001b[0m_getitem_multilevel\u001b[0m\u001b[1;33m(\u001b[0m\u001b[0mkey\u001b[0m\u001b[1;33m)\u001b[0m\u001b[1;33m\u001b[0m\u001b[1;33m\u001b[0m\u001b[0m\n\u001b[1;32m-> 2902\u001b[1;33m             \u001b[0mindexer\u001b[0m \u001b[1;33m=\u001b[0m \u001b[0mself\u001b[0m\u001b[1;33m.\u001b[0m\u001b[0mcolumns\u001b[0m\u001b[1;33m.\u001b[0m\u001b[0mget_loc\u001b[0m\u001b[1;33m(\u001b[0m\u001b[0mkey\u001b[0m\u001b[1;33m)\u001b[0m\u001b[1;33m\u001b[0m\u001b[1;33m\u001b[0m\u001b[0m\n\u001b[0m\u001b[0;32m   2903\u001b[0m             \u001b[1;32mif\u001b[0m \u001b[0mis_integer\u001b[0m\u001b[1;33m(\u001b[0m\u001b[0mindexer\u001b[0m\u001b[1;33m)\u001b[0m\u001b[1;33m:\u001b[0m\u001b[1;33m\u001b[0m\u001b[1;33m\u001b[0m\u001b[0m\n\u001b[0;32m   2904\u001b[0m                 \u001b[0mindexer\u001b[0m \u001b[1;33m=\u001b[0m \u001b[1;33m[\u001b[0m\u001b[0mindexer\u001b[0m\u001b[1;33m]\u001b[0m\u001b[1;33m\u001b[0m\u001b[1;33m\u001b[0m\u001b[0m\n",
      "\u001b[1;32mc:\\users\\sirle\\opencv\\lib\\site-packages\\pandas\\core\\indexes\\base.py\u001b[0m in \u001b[0;36mget_loc\u001b[1;34m(self, key, method, tolerance)\u001b[0m\n\u001b[0;32m   2895\u001b[0m                 \u001b[1;32mreturn\u001b[0m \u001b[0mself\u001b[0m\u001b[1;33m.\u001b[0m\u001b[0m_engine\u001b[0m\u001b[1;33m.\u001b[0m\u001b[0mget_loc\u001b[0m\u001b[1;33m(\u001b[0m\u001b[0mcasted_key\u001b[0m\u001b[1;33m)\u001b[0m\u001b[1;33m\u001b[0m\u001b[1;33m\u001b[0m\u001b[0m\n\u001b[0;32m   2896\u001b[0m             \u001b[1;32mexcept\u001b[0m \u001b[0mKeyError\u001b[0m \u001b[1;32mas\u001b[0m \u001b[0merr\u001b[0m\u001b[1;33m:\u001b[0m\u001b[1;33m\u001b[0m\u001b[1;33m\u001b[0m\u001b[0m\n\u001b[1;32m-> 2897\u001b[1;33m                 \u001b[1;32mraise\u001b[0m \u001b[0mKeyError\u001b[0m\u001b[1;33m(\u001b[0m\u001b[0mkey\u001b[0m\u001b[1;33m)\u001b[0m \u001b[1;32mfrom\u001b[0m \u001b[0merr\u001b[0m\u001b[1;33m\u001b[0m\u001b[1;33m\u001b[0m\u001b[0m\n\u001b[0m\u001b[0;32m   2898\u001b[0m \u001b[1;33m\u001b[0m\u001b[0m\n\u001b[0;32m   2899\u001b[0m         \u001b[1;32mif\u001b[0m \u001b[0mtolerance\u001b[0m \u001b[1;32mis\u001b[0m \u001b[1;32mnot\u001b[0m \u001b[1;32mNone\u001b[0m\u001b[1;33m:\u001b[0m\u001b[1;33m\u001b[0m\u001b[1;33m\u001b[0m\u001b[0m\n",
      "\u001b[1;31mKeyError\u001b[0m: 'ConfirmedCovidCases'"
     ]
    }
   ],
   "source": [
    "#Using a variable igual 3 centred\n",
    "covid_byCounty['Moving_Average_3c'] = covid_byCounty['ConfirmedCovidCases'].rolling(3, center=True).mean()\n",
    "covid_byCounty['Moving_Average_3'] = covid_byCounty['ConfirmedCovidCases'].rolling(3).mean()\n",
    "\n",
    "plt.figure(figsize=(18,8))\n",
    "sns.lineplot(x= 'Date', y='ConfirmedCovid Cases', data=covid_byCounty)\n",
    "sns.lineplot(x= 'Date', y='Moving_Average_3c', data=covid_byCounty)\n",
    "sns.lineplot(x= 'Date', y='Moving_Average_3', data=covid_byCounty)\n",
    "plt.title('Moving Average Confirmed Covid Cases in Ireland', fontsize=20)\n",
    "plt.legend([\"Cases\",\"Moving Average_3c\", 'Moving Average_3']);"
   ]
  },
  {
   "cell_type": "code",
   "execution_count": null,
   "metadata": {},
   "outputs": [],
   "source": [
    "covid_ie_ts['Moving_Average_6c'] = covid_ie_ts['ConfirmedCovidCases'].rolling(6, center=True).mean()\n",
    "covid_ie_ts['Moving_Average_6'] = covid_ie_ts['ConfirmedCovidCases'].rolling(6).mean()\n",
    "\n",
    "plt.figure(figsize=(18,8))\n",
    "sns.lineplot(x= 'Date', y='ConfirmedCovidCases', data=covid_ie_ts)\n",
    "sns.lineplot(x= 'Date', y='Moving_Average_6c', data=covid_ie_ts)\n",
    "sns.lineplot(x= 'Date', y='Moving_Average_6', data=covid_ie_ts)\n",
    "plt.title('Moving Average Confirmed Covid Cases in Ireland', fontsize=20)\n",
    "plt.legend([\"Cases\",\"Moving Average_6c\", 'Moving Average_6']);"
   ]
  },
  {
   "cell_type": "markdown",
   "metadata": {},
   "source": [
    "### Decomposition and autocorrelation\n",
    "\n",
    "Autocorrelation, also known as serial correlation, is the correlation of a signal with a delayed copy of itself as a function of delay. Informally, it is the similarity between observations as a function of the time lag between them. The analysis of autocorrelation is a mathematical tool for finding repeating patterns, such as the presence of a periodic signal obscured by noise, or identifying the missing fundamental frequency in a signal implied by its harmonic frequencies. It is often used in signal processing for analyzing functions or series of values, such as time domain signals.\n",
    "\n",
    "Different fields of study define autocorrelation differently, and not all of these definitions are equivalent. In some fields, the term is used interchangeably with autocovariance.\n",
    "\n",
    "Unit root processes, trend-stationary processes, autoregressive processes, and moving average processes are specific forms of processes with autocorrelation."
   ]
  },
  {
   "cell_type": "code",
   "execution_count": null,
   "metadata": {},
   "outputs": [],
   "source": [
    "plt.figure(figsize=(18,8))\n",
    "sns.lineplot(x='Month', y='ConfirmedCovidCases', data=covid_ie_ts, hue='CountyName');\n"
   ]
  },
  {
   "cell_type": "markdown",
   "metadata": {},
   "source": [
    "The best way to understand and calculate the seasonality is to use the Statsmodels library Apply Statsmodels.tsa.seasonal and import the method seasonal_decompose"
   ]
  },
  {
   "cell_type": "code",
   "execution_count": null,
   "metadata": {},
   "outputs": [],
   "source": [
    "from statsmodels.tsa.seasonal import seasonal_decompose"
   ]
  },
  {
   "cell_type": "code",
   "execution_count": null,
   "metadata": {},
   "outputs": [],
   "source": [
    "covid_ie_ts.head()"
   ]
  },
  {
   "cell_type": "code",
   "execution_count": null,
   "metadata": {},
   "outputs": [],
   "source": [
    "decomp = seasonal_decompose(covid_ie_ts[['Date','ConfirmedCovidCases']], freq= 12)"
   ]
  },
  {
   "cell_type": "code",
   "execution_count": null,
   "metadata": {},
   "outputs": [],
   "source": []
  },
  {
   "cell_type": "code",
   "execution_count": null,
   "metadata": {},
   "outputs": [],
   "source": []
  },
  {
   "cell_type": "code",
   "execution_count": null,
   "metadata": {},
   "outputs": [],
   "source": [
    "## VISUALIZATION\n",
    "import plotly.offline as py\n",
    "import plotly_express as px\n",
    "df_counties = covid_ie.copy().drop(['IGEasting', 'IGNorthing', 'ORIGID', 'PopulationCensus16'], axis=1)\n",
    "\n",
    "\n",
    "slice_df = pd.DataFrame(covid_ie['CountyName'])\n",
    "slice_df = slice_df.reset_index()\n",
    "fig = px.choropleth(slice_df, locations=\"CountyName\",\n",
    "                    color=np.log10(slice_df[\"ConfirmedCovidCases\"]), \n",
    "                    hover_name=\"CountyName\", \n",
    "                    hover_data=[\"ConfirmedCovidCases\"],\n",
    "                    color_continuous_scale=px.colors.sequential.Plasma,locationmode=\"CountyName\")\n",
    "fig.update_geos(fitbounds=\"locations\", visible=True)\n",
    "fig.update_coloraxes(colorbar_title=\"ConfirmedCovidCases (Log Scale)\",colorscale=\"Reds\")\n",
    "\n",
    "fig.show()"
   ]
  }
 ],
 "metadata": {
  "kernelspec": {
   "display_name": "Python 3",
   "language": "python",
   "name": "python3"
  },
  "language_info": {
   "codemirror_mode": {
    "name": "ipython",
    "version": 3
   },
   "file_extension": ".py",
   "mimetype": "text/x-python",
   "name": "python",
   "nbconvert_exporter": "python",
   "pygments_lexer": "ipython3",
   "version": "3.8.6"
  }
 },
 "nbformat": 4,
 "nbformat_minor": 4
}
