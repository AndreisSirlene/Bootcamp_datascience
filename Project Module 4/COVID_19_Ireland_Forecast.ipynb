{
 "cells": [
  {
   "cell_type": "markdown",
   "metadata": {},
   "source": [
    "## COVID-19 Cases in Ireland\n",
    "\n",
    "\n",
    "#### Introduction:\n",
    "\n",
    "This dataset contains Covid-19 Daily Statistics for Ireland by County polygon as reported by the Health Surveillance Protection Centre.The latest record was 21-01-2021.\n",
    "\n",
    "COVID-19 is thought to spread mainly through close contact from person to person, including between people who are physically near each other (within about 6 feet). People who are infected but do not show symptoms can also spread the virus to others. Cases of reinfection with COVID-19  have been reported but are rare. We are still learning about how the virus spreads and the severity of illness it causes.\n",
    "\n",
    "\n",
    "#### Main Sympthoms\n",
    "\n",
    "* When people with COVID-19 cough, sneeze, sing, talk, or breathe they produce respiratory droplets. These droplets can range in size from larger droplets (some of which are visible) to smaller droplets. Small droplets can also form particles when they dry very quickly in the airstream.\n",
    "\n",
    "Infections occur mainly through exposure to respiratory droplets when a person is in close contact with someone who has COVID-19.\n",
    "\n",
    "Respiratory droplets cause infection when they are inhaled or deposited on mucous membranes, such as those that line the inside of the nose and mouth.\n",
    "As the respiratory droplets travel further from the person with COVID-19, the concentration of these droplets decreases. Larger droplets fall out of the air due to gravity. Smaller droplets and particles spread apart in the air.\n",
    "With passing time, the amount of infectious virus in respiratory droplets also decreases.\n",
    "\n",
    "### Dataset:\n",
    "\n",
    "$Covid19$ $County$ $Statistics$ $HPSC$ $Ireland$\n",
    "\n",
    "This dataset contains Covid-19 Daily Statistics for Ireland by County polygon as reported by the Health Surveillance Protection Centre.The latest record was 21-01-2021.\n",
    "\n",
    "Dataset font: https://data.gov.ie/dataset/covid19countystatisticshpscireland1/resource/9ec1cba9-a9a9-4890-a4cc-980f4676197b"
   ]
  },
  {
   "cell_type": "markdown",
   "metadata": {},
   "source": [
    "\n",
    "### Quoting George Box:\n",
    "$\"All$ $models$ $are$ $wrong,$ $but$ $some$ $are$ $useful\"$ \n",
    "\n",
    "George Edward Pelham Box, was a British statistician, who worked in the areas of quality control, time-series analysis, design of experiments, and Bayesian inference. He has been called \"one of the great statistical minds of the 20th century\"."
   ]
  },
  {
   "cell_type": "code",
   "execution_count": null,
   "metadata": {},
   "outputs": [],
   "source": []
  },
  {
   "cell_type": "code",
   "execution_count": null,
   "metadata": {},
   "outputs": [],
   "source": [
    "import pandas as pd\n",
    "import numpy as np\n",
    "from statsmodels.tsa.seasonal import seasonal_decompose\n",
    "import matplotlib.pyplot as plt\n",
    "import matplotlib.ticker as ticker\n",
    "import seaborn as sns\n",
    "import warnings\n",
    "warnings.filterwarnings('ignore')"
   ]
  },
  {
   "cell_type": "code",
   "execution_count": null,
   "metadata": {},
   "outputs": [],
   "source": [
    "url = ''\n",
    "covid_ie = pd.read_csv(url)"
   ]
  },
  {
   "cell_type": "code",
   "execution_count": null,
   "metadata": {},
   "outputs": [],
   "source": []
  },
  {
   "cell_type": "code",
   "execution_count": null,
   "metadata": {},
   "outputs": [],
   "source": []
  }
 ],
 "metadata": {
  "kernelspec": {
   "display_name": "Python 3",
   "language": "python",
   "name": "python3"
  },
  "language_info": {
   "codemirror_mode": {
    "name": "ipython",
    "version": 3
   },
   "file_extension": ".py",
   "mimetype": "text/x-python",
   "name": "python",
   "nbconvert_exporter": "python",
   "pygments_lexer": "ipython3",
   "version": "3.8.6"
  }
 },
 "nbformat": 4,
 "nbformat_minor": 4
}
